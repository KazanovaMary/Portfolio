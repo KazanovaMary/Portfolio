{
 "cells": [
  {
   "cell_type": "markdown",
   "id": "f20c6c50-bc0b-4cf2-a2ee-8eec0a483503",
   "metadata": {},
   "source": [
    "# Статистический анализ данных сервиса аренды самокатов GoFast"
   ]
  },
  {
   "cell_type": "markdown",
   "id": "3697a289",
   "metadata": {},
   "source": [
    "Необходимо изучить данные сервиса аренды самокатов GoFast и проверить некоторые гипотезы, которые могут помочь бизнесу вырасти.\n",
    "\n",
    "Чтобы совершать поездки по городу, пользователи сервиса GoFast пользуются мобильным приложением. Сервисом можно пользоваться:\n",
    "- без подписки:\n",
    "    - абонентская плата отсутствует;\n",
    "    - стоимость одной минуты поездки — 8 рублей;\n",
    "    - стоимость старта (начала поездки) — 50 рублей;  \n",
    "- с подпиской Ultra:\n",
    "    - абонентская плата — 199 рублей в месяц;\n",
    "    - стоимость одной минуты поездки — 6 рублей;\n",
    "    - стоимость старта — бесплатно.\n",
    "\n",
    "**Описание данных**\n",
    "\n",
    "**Пользователи — `users_go.csv`**\n",
    "\n",
    "- user_id — уникальный идентификатор пользователя\n",
    "- name — имя пользователя\n",
    "- age — возраст\n",
    "- city — город\n",
    "- subscription_type — тип подписки (free, ultra)\n",
    "\n",
    "**Поeздки — `rides_go.csv`**\n",
    "\n",
    "- user_id — уникальный идентификатор пользователя\n",
    "- distance — расстояние, которое пользователь проехал в текущей сессии (в метрах)\n",
    "- duration — продолжительность сессии (в минутах) — время с того момента, как пользователь нажал кнопку «Начать поездку» до момента, как он нажал кнопку «Завершить поездку»\n",
    "- date — дата совершения поездки\n",
    "\n",
    "**Подписки — `subscriptions_go.csv`**\n",
    "\n",
    "- subscription_type — тип подписки\n",
    "- minute_price — стоимость одной минуты поездки по данной подписке\n",
    "- start_ride_price — стоимость начала поездки\n",
    "- subscription_fee — стоимость ежемесячного платежа\n",
    "\n",
    "**Ход исследования:**\n",
    "\n",
    "1. Загрузка данных\n",
    "2. Предобработка данных\n",
    "3. Исследовательский анализ данных\n",
    "4. Объединение данных\n",
    "5. Подсчёт выручки\n",
    "6. Проверка гипотез\n",
    "7. Общий вывод"
   ]
  },
  {
   "cell_type": "markdown",
   "id": "c42cbe00",
   "metadata": {},
   "source": [
    "## Загрузка данных"
   ]
  },
  {
   "cell_type": "code",
   "execution_count": 4,
   "id": "eff9f206",
   "metadata": {},
   "outputs": [],
   "source": [
    "# подключаем библиотеки\n",
    "import pandas as pd\n",
    "import numpy as np\n",
    "import matplotlib.pyplot as plt\n",
    "import seaborn as sns\n",
    "from scipy import stats as st"
   ]
  },
  {
   "cell_type": "code",
   "execution_count": 5,
   "id": "fa77e660-0242-44fb-9991-2bd43c5bb351",
   "metadata": {},
   "outputs": [],
   "source": [
    "try:\n",
    "    df_users = pd.read_csv('/datasets/users_go.csv')\n",
    "    df_rides = pd.read_csv('/datasets/rides_go.csv')\n",
    "    df_subscriptions = pd.read_csv('/datasets/subscriptions_go.csv')\n",
    "except:\n",
    "    df_users = pd.read_csv('https://code.s3.yandex.net/datasets/users_go.csv')\n",
    "    df_rides = pd.read_csv('https://code.s3.yandex.net/datasets/rides_go.csv')\n",
    "    df_subscriptions = pd.read_csv('https://code.s3.yandex.net/datasets/subscriptions_go.csv')\n",
    "\n",
    "pd.set_option('display.max_columns', None)"
   ]
  },
  {
   "cell_type": "code",
   "execution_count": 6,
   "id": "8284a243",
   "metadata": {},
   "outputs": [
    {
     "data": {
      "text/html": [
       "<div>\n",
       "<style scoped>\n",
       "    .dataframe tbody tr th:only-of-type {\n",
       "        vertical-align: middle;\n",
       "    }\n",
       "\n",
       "    .dataframe tbody tr th {\n",
       "        vertical-align: top;\n",
       "    }\n",
       "\n",
       "    .dataframe thead th {\n",
       "        text-align: right;\n",
       "    }\n",
       "</style>\n",
       "<table border=\"1\" class=\"dataframe\">\n",
       "  <thead>\n",
       "    <tr style=\"text-align: right;\">\n",
       "      <th></th>\n",
       "      <th>user_id</th>\n",
       "      <th>name</th>\n",
       "      <th>age</th>\n",
       "      <th>city</th>\n",
       "      <th>subscription_type</th>\n",
       "    </tr>\n",
       "  </thead>\n",
       "  <tbody>\n",
       "    <tr>\n",
       "      <th>0</th>\n",
       "      <td>1</td>\n",
       "      <td>Кира</td>\n",
       "      <td>22</td>\n",
       "      <td>Тюмень</td>\n",
       "      <td>ultra</td>\n",
       "    </tr>\n",
       "    <tr>\n",
       "      <th>1</th>\n",
       "      <td>2</td>\n",
       "      <td>Станислав</td>\n",
       "      <td>31</td>\n",
       "      <td>Омск</td>\n",
       "      <td>ultra</td>\n",
       "    </tr>\n",
       "    <tr>\n",
       "      <th>2</th>\n",
       "      <td>3</td>\n",
       "      <td>Алексей</td>\n",
       "      <td>20</td>\n",
       "      <td>Москва</td>\n",
       "      <td>ultra</td>\n",
       "    </tr>\n",
       "    <tr>\n",
       "      <th>3</th>\n",
       "      <td>4</td>\n",
       "      <td>Константин</td>\n",
       "      <td>26</td>\n",
       "      <td>Ростов-на-Дону</td>\n",
       "      <td>ultra</td>\n",
       "    </tr>\n",
       "    <tr>\n",
       "      <th>4</th>\n",
       "      <td>5</td>\n",
       "      <td>Адель</td>\n",
       "      <td>28</td>\n",
       "      <td>Омск</td>\n",
       "      <td>ultra</td>\n",
       "    </tr>\n",
       "  </tbody>\n",
       "</table>\n",
       "</div>"
      ],
      "text/plain": [
       "   user_id        name  age            city subscription_type\n",
       "0        1        Кира   22          Тюмень             ultra\n",
       "1        2   Станислав   31            Омск             ultra\n",
       "2        3     Алексей   20          Москва             ultra\n",
       "3        4  Константин   26  Ростов-на-Дону             ultra\n",
       "4        5       Адель   28            Омск             ultra"
      ]
     },
     "metadata": {},
     "output_type": "display_data"
    },
    {
     "data": {
      "text/html": [
       "<div>\n",
       "<style scoped>\n",
       "    .dataframe tbody tr th:only-of-type {\n",
       "        vertical-align: middle;\n",
       "    }\n",
       "\n",
       "    .dataframe tbody tr th {\n",
       "        vertical-align: top;\n",
       "    }\n",
       "\n",
       "    .dataframe thead th {\n",
       "        text-align: right;\n",
       "    }\n",
       "</style>\n",
       "<table border=\"1\" class=\"dataframe\">\n",
       "  <thead>\n",
       "    <tr style=\"text-align: right;\">\n",
       "      <th></th>\n",
       "      <th>user_id</th>\n",
       "      <th>distance</th>\n",
       "      <th>duration</th>\n",
       "      <th>date</th>\n",
       "    </tr>\n",
       "  </thead>\n",
       "  <tbody>\n",
       "    <tr>\n",
       "      <th>0</th>\n",
       "      <td>1</td>\n",
       "      <td>4409.919140</td>\n",
       "      <td>25.599769</td>\n",
       "      <td>2021-01-01</td>\n",
       "    </tr>\n",
       "    <tr>\n",
       "      <th>1</th>\n",
       "      <td>1</td>\n",
       "      <td>2617.592153</td>\n",
       "      <td>15.816871</td>\n",
       "      <td>2021-01-18</td>\n",
       "    </tr>\n",
       "    <tr>\n",
       "      <th>2</th>\n",
       "      <td>1</td>\n",
       "      <td>754.159807</td>\n",
       "      <td>6.232113</td>\n",
       "      <td>2021-04-20</td>\n",
       "    </tr>\n",
       "    <tr>\n",
       "      <th>3</th>\n",
       "      <td>1</td>\n",
       "      <td>2694.783254</td>\n",
       "      <td>18.511000</td>\n",
       "      <td>2021-08-11</td>\n",
       "    </tr>\n",
       "    <tr>\n",
       "      <th>4</th>\n",
       "      <td>1</td>\n",
       "      <td>4028.687306</td>\n",
       "      <td>26.265803</td>\n",
       "      <td>2021-08-28</td>\n",
       "    </tr>\n",
       "  </tbody>\n",
       "</table>\n",
       "</div>"
      ],
      "text/plain": [
       "   user_id     distance   duration        date\n",
       "0        1  4409.919140  25.599769  2021-01-01\n",
       "1        1  2617.592153  15.816871  2021-01-18\n",
       "2        1   754.159807   6.232113  2021-04-20\n",
       "3        1  2694.783254  18.511000  2021-08-11\n",
       "4        1  4028.687306  26.265803  2021-08-28"
      ]
     },
     "metadata": {},
     "output_type": "display_data"
    }
   ],
   "source": [
    "# получение первых cтрок таблицы df_users\n",
    "display(df_users.head())\n",
    "\n",
    "# получение первых cтрок таблицы df_rides\n",
    "display(df_rides.head())"
   ]
  },
  {
   "cell_type": "code",
   "execution_count": 7,
   "id": "f72d62e3",
   "metadata": {},
   "outputs": [
    {
     "data": {
      "text/html": [
       "<div>\n",
       "<style scoped>\n",
       "    .dataframe tbody tr th:only-of-type {\n",
       "        vertical-align: middle;\n",
       "    }\n",
       "\n",
       "    .dataframe tbody tr th {\n",
       "        vertical-align: top;\n",
       "    }\n",
       "\n",
       "    .dataframe thead th {\n",
       "        text-align: right;\n",
       "    }\n",
       "</style>\n",
       "<table border=\"1\" class=\"dataframe\">\n",
       "  <thead>\n",
       "    <tr style=\"text-align: right;\">\n",
       "      <th></th>\n",
       "      <th>subscription_type</th>\n",
       "      <th>minute_price</th>\n",
       "      <th>start_ride_price</th>\n",
       "      <th>subscription_fee</th>\n",
       "    </tr>\n",
       "  </thead>\n",
       "  <tbody>\n",
       "    <tr>\n",
       "      <th>0</th>\n",
       "      <td>free</td>\n",
       "      <td>8</td>\n",
       "      <td>50</td>\n",
       "      <td>0</td>\n",
       "    </tr>\n",
       "    <tr>\n",
       "      <th>1</th>\n",
       "      <td>ultra</td>\n",
       "      <td>6</td>\n",
       "      <td>0</td>\n",
       "      <td>199</td>\n",
       "    </tr>\n",
       "  </tbody>\n",
       "</table>\n",
       "</div>"
      ],
      "text/plain": [
       "  subscription_type  minute_price  start_ride_price  subscription_fee\n",
       "0              free             8                50                 0\n",
       "1             ultra             6                 0               199"
      ]
     },
     "execution_count": 7,
     "metadata": {},
     "output_type": "execute_result"
    }
   ],
   "source": [
    "# выведем данные по подпискам\n",
    "df_subscriptions.head()"
   ]
  },
  {
   "cell_type": "code",
   "execution_count": 8,
   "id": "2941853e",
   "metadata": {},
   "outputs": [
    {
     "name": "stdout",
     "output_type": "stream",
     "text": [
      "<class 'pandas.core.frame.DataFrame'>\n",
      "RangeIndex: 1565 entries, 0 to 1564\n",
      "Data columns (total 5 columns):\n",
      " #   Column             Non-Null Count  Dtype \n",
      "---  ------             --------------  ----- \n",
      " 0   user_id            1565 non-null   int64 \n",
      " 1   name               1565 non-null   object\n",
      " 2   age                1565 non-null   int64 \n",
      " 3   city               1565 non-null   object\n",
      " 4   subscription_type  1565 non-null   object\n",
      "dtypes: int64(2), object(3)\n",
      "memory usage: 61.3+ KB\n",
      "\n",
      "========================================\n",
      "\n",
      "<class 'pandas.core.frame.DataFrame'>\n",
      "RangeIndex: 18068 entries, 0 to 18067\n",
      "Data columns (total 4 columns):\n",
      " #   Column    Non-Null Count  Dtype  \n",
      "---  ------    --------------  -----  \n",
      " 0   user_id   18068 non-null  int64  \n",
      " 1   distance  18068 non-null  float64\n",
      " 2   duration  18068 non-null  float64\n",
      " 3   date      18068 non-null  object \n",
      "dtypes: float64(2), int64(1), object(1)\n",
      "memory usage: 564.8+ KB\n",
      "\n",
      "========================================\n",
      "\n",
      "<class 'pandas.core.frame.DataFrame'>\n",
      "RangeIndex: 2 entries, 0 to 1\n",
      "Data columns (total 4 columns):\n",
      " #   Column             Non-Null Count  Dtype \n",
      "---  ------             --------------  ----- \n",
      " 0   subscription_type  2 non-null      object\n",
      " 1   minute_price       2 non-null      int64 \n",
      " 2   start_ride_price   2 non-null      int64 \n",
      " 3   subscription_fee   2 non-null      int64 \n",
      "dtypes: int64(3), object(1)\n",
      "memory usage: 196.0+ bytes\n"
     ]
    }
   ],
   "source": [
    "# изучим общую информацию \n",
    "df_users.info()\n",
    "print(\"\\n\" + \"=\"*40 + \"\\n\")  \n",
    "\n",
    "df_rides.info()\n",
    "print(\"\\n\" + \"=\"*40 + \"\\n\")  \n",
    "\n",
    "df_subscriptions.info()"
   ]
  },
  {
   "cell_type": "code",
   "execution_count": 9,
   "id": "eaf11594",
   "metadata": {},
   "outputs": [
    {
     "name": "stdout",
     "output_type": "stream",
     "text": [
      "Количество явных дубликатов в `users_go.csv` =  31\n",
      "Количество явных дубликатов в `rides_go.csv` =  0\n"
     ]
    }
   ],
   "source": [
    "# проверим на явные дубликаты\n",
    "print('Количество явных дубликатов в `users_go.csv` = ', df_users.duplicated().sum())\n",
    "print('Количество явных дубликатов в `rides_go.csv` = ', df_rides.duplicated().sum())"
   ]
  },
  {
   "cell_type": "code",
   "execution_count": 10,
   "id": "0269d18d",
   "metadata": {},
   "outputs": [
    {
     "name": "stdout",
     "output_type": "stream",
     "text": [
      "Количество пропусков в `users_go.csv` =  user_id              0\n",
      "name                 0\n",
      "age                  0\n",
      "city                 0\n",
      "subscription_type    0\n",
      "dtype: int64\n",
      "\n",
      "========================================\n",
      "\n",
      "Количество пропусков в `rides_go.csv` =  user_id     0\n",
      "distance    0\n",
      "duration    0\n",
      "date        0\n",
      "dtype: int64\n",
      "\n",
      "========================================\n",
      "\n",
      "Количество пропусков в `subscriptions_go.csv` =  subscription_type    0\n",
      "minute_price         0\n",
      "start_ride_price     0\n",
      "subscription_fee     0\n",
      "dtype: int64\n"
     ]
    }
   ],
   "source": [
    "# дополнительно проверим на пропуски\n",
    "print('Количество пропусков в `users_go.csv` = ', df_users.isna().sum())\n",
    "print(\"\\n\" + \"=\"*40 + \"\\n\")\n",
    "print('Количество пропусков в `rides_go.csv` = ', df_rides.isna().sum())\n",
    "print(\"\\n\" + \"=\"*40 + \"\\n\")\n",
    "print('Количество пропусков в `subscriptions_go.csv` = ', df_subscriptions.isna().sum())"
   ]
  },
  {
   "cell_type": "markdown",
   "id": "42e71859",
   "metadata": {},
   "source": [
    "**После загрузки данных видим следующее:** \n",
    "- df_users 1565 строк, пропуски отсутствуют, количество явных дубликатов - 31.\n",
    "- df_rides 18068 строк, пропуски отсутствуют, явных дубликатов нет.\n",
    "- df_subscriptions 2 строки, пропуски отсутствуют. \n",
    "\n",
    "Названия столбцов в норме. \n",
    "В некоторых столбцах присутствует некорректный тип данных. \n",
    "Данные готовы для исследования."
   ]
  },
  {
   "cell_type": "markdown",
   "id": "e95ebca7",
   "metadata": {},
   "source": [
    "## Предобработка данных\n",
    "### Обработка дубликатов в users_go"
   ]
  },
  {
   "cell_type": "code",
   "execution_count": 13,
   "id": "af6d202c",
   "metadata": {},
   "outputs": [
    {
     "data": {
      "text/plain": [
       "array(['Тюмень', 'Омск', 'Москва', 'Ростов-на-Дону', 'Краснодар',\n",
       "       'Пятигорск', 'Екатеринбург', 'Сочи'], dtype=object)"
      ]
     },
     "execution_count": 13,
     "metadata": {},
     "output_type": "execute_result"
    }
   ],
   "source": [
    "# проверим на неявные дубликаты\n",
    "df_users['city'].unique()"
   ]
  },
  {
   "cell_type": "markdown",
   "id": "32cb2584",
   "metadata": {},
   "source": [
    "Неявных дубликатов не обнаружено."
   ]
  },
  {
   "cell_type": "code",
   "execution_count": 15,
   "id": "fc08daa4",
   "metadata": {},
   "outputs": [
    {
     "data": {
      "text/plain": [
       "0"
      ]
     },
     "execution_count": 15,
     "metadata": {},
     "output_type": "execute_result"
    }
   ],
   "source": [
    "# удалим дубликаты\n",
    "df_users.drop_duplicates(inplace=True)\n",
    "# проверка\n",
    "df_users.duplicated().sum()"
   ]
  },
  {
   "cell_type": "markdown",
   "id": "2104cac1",
   "metadata": {},
   "source": [
    "### Обработка типов данных в rides_go"
   ]
  },
  {
   "cell_type": "code",
   "execution_count": 17,
   "id": "cbc1babf",
   "metadata": {},
   "outputs": [
    {
     "data": {
      "text/plain": [
       "0   2021-01-01\n",
       "1   2021-01-18\n",
       "2   2021-04-20\n",
       "3   2021-08-11\n",
       "4   2021-08-28\n",
       "Name: date, dtype: datetime64[ns]"
      ]
     },
     "execution_count": 17,
     "metadata": {},
     "output_type": "execute_result"
    }
   ],
   "source": [
    "# приведем столбец date из датафрейма data_rides к типу даты.\n",
    "df_rides['date'] = pd.to_datetime(df_rides['date'], format = '%Y-%m-%d')\n",
    "# проверка\n",
    "df_rides['date'].head()"
   ]
  },
  {
   "cell_type": "code",
   "execution_count": 18,
   "id": "5e02e322",
   "metadata": {},
   "outputs": [
    {
     "data": {
      "text/plain": [
       "0    1\n",
       "1    1\n",
       "2    4\n",
       "3    8\n",
       "4    8\n",
       "Name: month, dtype: int32"
      ]
     },
     "execution_count": 18,
     "metadata": {},
     "output_type": "execute_result"
    }
   ],
   "source": [
    "# добавим номер месяца\n",
    "df_rides['month'] = df_rides['date'].dt.month\n",
    "# проверка\n",
    "df_rides['month'].head()"
   ]
  },
  {
   "cell_type": "code",
   "execution_count": 19,
   "id": "76d812f2",
   "metadata": {},
   "outputs": [
    {
     "data": {
      "text/html": [
       "<div>\n",
       "<style scoped>\n",
       "    .dataframe tbody tr th:only-of-type {\n",
       "        vertical-align: middle;\n",
       "    }\n",
       "\n",
       "    .dataframe tbody tr th {\n",
       "        vertical-align: top;\n",
       "    }\n",
       "\n",
       "    .dataframe thead th {\n",
       "        text-align: right;\n",
       "    }\n",
       "</style>\n",
       "<table border=\"1\" class=\"dataframe\">\n",
       "  <thead>\n",
       "    <tr style=\"text-align: right;\">\n",
       "      <th></th>\n",
       "      <th>user_id</th>\n",
       "      <th>distance</th>\n",
       "      <th>duration</th>\n",
       "      <th>date</th>\n",
       "      <th>month</th>\n",
       "    </tr>\n",
       "  </thead>\n",
       "  <tbody>\n",
       "    <tr>\n",
       "      <th>0</th>\n",
       "      <td>1</td>\n",
       "      <td>4409.92</td>\n",
       "      <td>26</td>\n",
       "      <td>2021-01-01</td>\n",
       "      <td>1</td>\n",
       "    </tr>\n",
       "    <tr>\n",
       "      <th>1</th>\n",
       "      <td>1</td>\n",
       "      <td>2617.59</td>\n",
       "      <td>16</td>\n",
       "      <td>2021-01-18</td>\n",
       "      <td>1</td>\n",
       "    </tr>\n",
       "    <tr>\n",
       "      <th>2</th>\n",
       "      <td>1</td>\n",
       "      <td>754.16</td>\n",
       "      <td>7</td>\n",
       "      <td>2021-04-20</td>\n",
       "      <td>4</td>\n",
       "    </tr>\n",
       "    <tr>\n",
       "      <th>3</th>\n",
       "      <td>1</td>\n",
       "      <td>2694.78</td>\n",
       "      <td>19</td>\n",
       "      <td>2021-08-11</td>\n",
       "      <td>8</td>\n",
       "    </tr>\n",
       "    <tr>\n",
       "      <th>4</th>\n",
       "      <td>1</td>\n",
       "      <td>4028.69</td>\n",
       "      <td>27</td>\n",
       "      <td>2021-08-28</td>\n",
       "      <td>8</td>\n",
       "    </tr>\n",
       "  </tbody>\n",
       "</table>\n",
       "</div>"
      ],
      "text/plain": [
       "   user_id  distance  duration       date  month\n",
       "0        1   4409.92        26 2021-01-01      1\n",
       "1        1   2617.59        16 2021-01-18      1\n",
       "2        1    754.16         7 2021-04-20      4\n",
       "3        1   2694.78        19 2021-08-11      8\n",
       "4        1   4028.69        27 2021-08-28      8"
      ]
     },
     "execution_count": 19,
     "metadata": {},
     "output_type": "execute_result"
    }
   ],
   "source": [
    "# приведем столбец к типу данных int\n",
    "df_rides['duration'] = np.ceil(df_rides['duration']).astype('int')\n",
    "\n",
    "# округлим продолжительность поездки\n",
    "df_rides['distance'] = df_rides['distance'].round(2)\n",
    "df_rides.head()"
   ]
  },
  {
   "cell_type": "markdown",
   "id": "9fbcaf9e",
   "metadata": {},
   "source": [
    "**Промежуточный итог:**\n",
    "\n",
    "- удалены дубликаты в users_go;\n",
    "- добавлен столбец с номером месяца в rides_go;\n",
    "- столбец date приведен к типу даты datetime64 в rides_go;\n",
    "- округлили продолжительность поездки в столбце duration в rides_go и привели к типу int;\n",
    "- округлили distance в метрах до 2 знаков после запятой."
   ]
  },
  {
   "cell_type": "markdown",
   "id": "212593c7",
   "metadata": {},
   "source": [
    "##  Исследовательский анализ данных\n",
    "### Частота встречаемости городов"
   ]
  },
  {
   "cell_type": "code",
   "execution_count": 22,
   "id": "e3a4274c",
   "metadata": {},
   "outputs": [
    {
     "data": {
      "text/plain": [
       "city\n",
       "Пятигорск         219\n",
       "Екатеринбург      204\n",
       "Ростов-на-Дону    198\n",
       "Краснодар         193\n",
       "Сочи              189\n",
       "Омск              183\n",
       "Тюмень            180\n",
       "Москва            168\n",
       "Name: count, dtype: int64"
      ]
     },
     "execution_count": 22,
     "metadata": {},
     "output_type": "execute_result"
    }
   ],
   "source": [
    "# посчитаем количество пользователей в каждом городе датафрейма\n",
    "df_users['city'].value_counts()"
   ]
  },
  {
   "cell_type": "code",
   "execution_count": 23,
   "id": "a5eb7435-9bd6-4cf7-beeb-efb254ba0cbe",
   "metadata": {},
   "outputs": [
    {
     "data": {
      "image/png": "[encoded data removed]",
      "text/plain": [
       "<Figure size 1000x800 with 1 Axes>"
      ]
     },
     "metadata": {},
     "output_type": "display_data"
    }
   ],
   "source": [
    "# получаем данные для графика\n",
    "city_counts = df_users['city'].value_counts()\n",
    "\n",
    "# настройка графика\n",
    "plt.figure(figsize=(10, 8))\n",
    "bars = plt.barh(city_counts.index, city_counts.values, color='skyblue', edgecolor='black')\n",
    "\n",
    "# добавление подписей на столбцы\n",
    "for bar in bars:\n",
    "    plt.text(bar.get_width(), bar.get_y() + bar.get_height()/2, \n",
    "             f'{bar.get_width()}', va='center', ha='left', fontsize=10)\n",
    "\n",
    "# заголовок и метки осей\n",
    "plt.title('Распределение пользователей по городам', fontsize=16)\n",
    "plt.xlabel('Количество пользователей', fontsize=12)\n",
    "plt.ylabel('Города', fontsize=12)\n",
    "\n",
    "# сетка для удобства восприятия\n",
    "plt.grid(axis='x', linestyle='--', alpha=0.7)\n",
    "\n",
    "# показать график\n",
    "plt.tight_layout()\n",
    "plt.show()"
   ]
  },
  {
   "cell_type": "markdown",
   "id": "1a69dd3f",
   "metadata": {},
   "source": [
    "**Лидером является город Пятигорск с количеством в 219 строк. Далее идут Екатеринбург и Ростов-на-Дону. Наименьшее количество пользователей находятся в Москве. Хотя, в целом, распределение по городам плюс-минус равномерное.**"
   ]
  },
  {
   "cell_type": "markdown",
   "id": "1835ef5e",
   "metadata": {},
   "source": [
    "### Соотношение пользователей с подпиской и без"
   ]
  },
  {
   "cell_type": "code",
   "execution_count": 26,
   "id": "7b28b1a3",
   "metadata": {},
   "outputs": [
    {
     "data": {
      "text/plain": [
       "subscription_type\n",
       "free     835\n",
       "ultra    699\n",
       "Name: count, dtype: int64"
      ]
     },
     "execution_count": 26,
     "metadata": {},
     "output_type": "execute_result"
    }
   ],
   "source": [
    "df_users['subscription_type'].value_counts()"
   ]
  },
  {
   "cell_type": "code",
   "execution_count": 159,
   "id": "083ff66c",
   "metadata": {},
   "outputs": [
    {
     "data": {
      "image/png": "[encoded data removed]",
      "text/plain": [
       "<Figure size 500x500 with 1 Axes>"
      ]
     },
     "metadata": {},
     "output_type": "display_data"
    }
   ],
   "source": [
    "# построим диаграмму\n",
    "df_users['subscription_type'].value_counts().plot(\n",
    "    kind = 'pie', \n",
    "    autopct='%1.0f%%',\n",
    "    figsize=(5,5),\n",
    "    label = 'Количество пользователей',\n",
    "    title = 'Соотношение пользователей');"
   ]
  },
  {
   "cell_type": "markdown",
   "id": "9f4dcbba",
   "metadata": {},
   "source": [
    "**Пользователей с бесплатным тарифом больше, чем пользователей с подпиской.**"
   ]
  },
  {
   "cell_type": "markdown",
   "id": "a9882b61",
   "metadata": {},
   "source": [
    "### Возраст пользователей"
   ]
  },
  {
   "cell_type": "code",
   "execution_count": 31,
   "id": "82b844c7",
   "metadata": {},
   "outputs": [
    {
     "name": "stdout",
     "output_type": "stream",
     "text": [
      "Возраст от 12 до 43\n"
     ]
    }
   ],
   "source": [
    "# найдем минимальный и максимальный возраст в таблице\n",
    "print('Возраст от', df_users['age'].min(), 'до', df_users['age'].max())"
   ]
  },
  {
   "cell_type": "code",
   "execution_count": 32,
   "id": "e42bc12e",
   "metadata": {},
   "outputs": [
    {
     "data": {
      "image/png": "[encoded data removed]",
      "text/plain": [
       "<Figure size 640x480 with 1 Axes>"
      ]
     },
     "metadata": {},
     "output_type": "display_data"
    }
   ],
   "source": [
    "# построим гистограмму\n",
    "plt.hist(df_users['age'])\n",
    "plt.title('Распределение пользователей по возрасту')\n",
    "plt.xlabel('Возраст')\n",
    "plt.ylabel('Количество пользователей')\n",
    "plt.grid()\n",
    "plt.show()"
   ]
  },
  {
   "cell_type": "code",
   "execution_count": 33,
   "id": "c6fc9a2a",
   "metadata": {},
   "outputs": [
    {
     "name": "stdout",
     "output_type": "stream",
     "text": [
      "Среднее значение возраста пользователей 24.9\n"
     ]
    },
    {
     "data": {
      "text/plain": [
       "count    1534.000000\n",
       "mean       24.903520\n",
       "std         4.572367\n",
       "min        12.000000\n",
       "25%        22.000000\n",
       "50%        25.000000\n",
       "75%        28.000000\n",
       "max        43.000000\n",
       "Name: age, dtype: float64"
      ]
     },
     "execution_count": 33,
     "metadata": {},
     "output_type": "execute_result"
    }
   ],
   "source": [
    "print('Среднее значение возраста пользователей', df_users['age'].mean().round(1))\n",
    "df_users['age'].describe()"
   ]
  },
  {
   "cell_type": "markdown",
   "id": "0c2440d1",
   "metadata": {},
   "source": [
    "**Сервисом пользуются люди возрастом от 12 до 43 лет. Основная масса пользователей входит в возрастную группу от 22 до 30 лет, средний возраст составляет около 25 лет.**"
   ]
  },
  {
   "cell_type": "markdown",
   "id": "9d9cc9fe",
   "metadata": {},
   "source": [
    "### Расстояние за одну поездку"
   ]
  },
  {
   "cell_type": "code",
   "execution_count": 37,
   "id": "108062f2",
   "metadata": {},
   "outputs": [
    {
     "data": {
      "text/plain": [
       "count    18068.000000\n",
       "mean      3070.659992\n",
       "std       1116.831222\n",
       "min          0.860000\n",
       "25%       2543.227500\n",
       "50%       3133.610000\n",
       "75%       3776.220000\n",
       "max       7211.010000\n",
       "Name: distance, dtype: float64"
      ]
     },
     "execution_count": 37,
     "metadata": {},
     "output_type": "execute_result"
    }
   ],
   "source": [
    "df_rides['distance'].describe()"
   ]
  },
  {
   "cell_type": "code",
   "execution_count": 38,
   "id": "d12471c7",
   "metadata": {},
   "outputs": [
    {
     "data": {
      "image/png": "[encoded data removed]",
      "text/plain": [
       "<Figure size 640x480 with 1 Axes>"
      ]
     },
     "metadata": {},
     "output_type": "display_data"
    }
   ],
   "source": [
    "# построим гистограмму\n",
    "plt.hist(df_rides['distance'], bins=500)\n",
    "plt.title('Количество поездок в зависимости от расстояния')\n",
    "plt.xlabel('Расстояние (м)')\n",
    "plt.ylabel('Количество поездок')\n",
    "plt.grid()\n",
    "plt.show()"
   ]
  },
  {
   "cell_type": "code",
   "execution_count": 39,
   "id": "0b3515e5",
   "metadata": {},
   "outputs": [
    {
     "data": {
      "image/png": "[encoded data removed]",
      "text/plain": [
       "<Figure size 640x480 with 1 Axes>"
      ]
     },
     "metadata": {},
     "output_type": "display_data"
    }
   ],
   "source": [
    "# посмотрим для наглядности на еще один график\n",
    "sns.boxplot(x=df_rides['distance'], color='yellow')\n",
    "plt.title('Расстояние за одну поездку')\n",
    "plt.xlabel('Расстояние, м');"
   ]
  },
  {
   "cell_type": "markdown",
   "id": "3f98d975",
   "metadata": {},
   "source": [
    "**Расстояние поездок варируется от 860 до 7200 метров. Согласно изученным данным, среднее расстояние одной поездки равно приблизительно 3134 метрам. Наиболее часто пользователи сервиса проезжают расстояние от 2,5 до 3,7 км.**"
   ]
  },
  {
   "cell_type": "markdown",
   "id": "f741ac09",
   "metadata": {},
   "source": [
    "### Продолжительность поездок"
   ]
  },
  {
   "cell_type": "code",
   "execution_count": 43,
   "id": "b325e042",
   "metadata": {},
   "outputs": [
    {
     "data": {
      "text/plain": [
       "count    18068.000000\n",
       "mean        18.303520\n",
       "std          6.094928\n",
       "min          1.000000\n",
       "25%         14.000000\n",
       "50%         18.000000\n",
       "75%         22.000000\n",
       "max         41.000000\n",
       "Name: duration, dtype: float64"
      ]
     },
     "execution_count": 43,
     "metadata": {},
     "output_type": "execute_result"
    }
   ],
   "source": [
    "df_rides['duration'].describe()"
   ]
  },
  {
   "cell_type": "code",
   "execution_count": 44,
   "id": "40b586e4",
   "metadata": {},
   "outputs": [
    {
     "name": "stdout",
     "output_type": "stream",
     "text": [
      "Самая короткая поездка 1\n",
      "Самая долгая поездка 41\n"
     ]
    }
   ],
   "source": [
    "# найдем самую короткую и самую долгую поездки\n",
    "print('Самая короткая поездка', df_rides['duration'].min())\n",
    "print('Самая долгая поездка', df_rides['duration'].max())"
   ]
  },
  {
   "cell_type": "code",
   "execution_count": 45,
   "id": "ee314cf0",
   "metadata": {},
   "outputs": [
    {
     "data": {
      "image/png": "[encoded data removed]",
      "text/plain": [
       "<Figure size 640x480 with 1 Axes>"
      ]
     },
     "metadata": {},
     "output_type": "display_data"
    }
   ],
   "source": [
    "# построим график\n",
    "sns.boxplot(x=df_rides['duration'], color='yellow')\n",
    "plt.title('Время поездки')\n",
    "plt.xlabel('Время, мин');"
   ]
  },
  {
   "cell_type": "markdown",
   "id": "f8fa62ba",
   "metadata": {},
   "source": [
    "**В среднем продолжительность поездки составляет от 14 до 22 минут. Так как все минимальные значения были округлены до верхнего \"потолка\", самые короткие поездки приняты за 1 минуту. На эти данные стоит обратить внимание, возможно, у пользователей возникли сложности с арендой самоката (технические проблемы на стороне приложения), поэтому поездка не состоялась. Самая долгая поездка составляет 41 минуту.**"
   ]
  },
  {
   "cell_type": "markdown",
   "id": "435a92b2",
   "metadata": {},
   "source": [
    "### Вывод по разделу\n",
    "\n",
    "1. Наибольшее количество пользователей сервиса находится в г. Пятигорск, наименьшее - в г. Москва.\n",
    "2. Количество пользователей без подписки (54%) превышает количество пользователей с подпиской (46%).\n",
    "3. Средний возраст пользователей сервиса от 22 до 30 лет.\n",
    "4. В среднем, пользователи сервиса проезжают расстояние от 2,5 до 3,7 км.\n",
    "5. В основном продолжительность поездки составляет от 14 до 22 минут. "
   ]
  },
  {
   "cell_type": "markdown",
   "id": "4ef51331",
   "metadata": {},
   "source": [
    "## Объединение данных\n",
    "\n",
    "### Объединим данные о пользователях, поездках и подписках в один датафрейм. "
   ]
  },
  {
   "cell_type": "code",
   "execution_count": 51,
   "id": "6bf288b5",
   "metadata": {},
   "outputs": [
    {
     "data": {
      "text/html": [
       "<div>\n",
       "<style scoped>\n",
       "    .dataframe tbody tr th:only-of-type {\n",
       "        vertical-align: middle;\n",
       "    }\n",
       "\n",
       "    .dataframe tbody tr th {\n",
       "        vertical-align: top;\n",
       "    }\n",
       "\n",
       "    .dataframe thead th {\n",
       "        text-align: right;\n",
       "    }\n",
       "</style>\n",
       "<table border=\"1\" class=\"dataframe\">\n",
       "  <thead>\n",
       "    <tr style=\"text-align: right;\">\n",
       "      <th></th>\n",
       "      <th>user_id</th>\n",
       "      <th>name</th>\n",
       "      <th>age</th>\n",
       "      <th>city</th>\n",
       "      <th>subscription_type</th>\n",
       "      <th>distance</th>\n",
       "      <th>duration</th>\n",
       "      <th>date</th>\n",
       "      <th>month</th>\n",
       "      <th>minute_price</th>\n",
       "      <th>start_ride_price</th>\n",
       "      <th>subscription_fee</th>\n",
       "    </tr>\n",
       "  </thead>\n",
       "  <tbody>\n",
       "    <tr>\n",
       "      <th>0</th>\n",
       "      <td>1</td>\n",
       "      <td>Кира</td>\n",
       "      <td>22</td>\n",
       "      <td>Тюмень</td>\n",
       "      <td>ultra</td>\n",
       "      <td>4409.92</td>\n",
       "      <td>26</td>\n",
       "      <td>2021-01-01</td>\n",
       "      <td>1</td>\n",
       "      <td>6</td>\n",
       "      <td>0</td>\n",
       "      <td>199</td>\n",
       "    </tr>\n",
       "    <tr>\n",
       "      <th>1</th>\n",
       "      <td>1</td>\n",
       "      <td>Кира</td>\n",
       "      <td>22</td>\n",
       "      <td>Тюмень</td>\n",
       "      <td>ultra</td>\n",
       "      <td>2617.59</td>\n",
       "      <td>16</td>\n",
       "      <td>2021-01-18</td>\n",
       "      <td>1</td>\n",
       "      <td>6</td>\n",
       "      <td>0</td>\n",
       "      <td>199</td>\n",
       "    </tr>\n",
       "    <tr>\n",
       "      <th>2</th>\n",
       "      <td>1</td>\n",
       "      <td>Кира</td>\n",
       "      <td>22</td>\n",
       "      <td>Тюмень</td>\n",
       "      <td>ultra</td>\n",
       "      <td>754.16</td>\n",
       "      <td>7</td>\n",
       "      <td>2021-04-20</td>\n",
       "      <td>4</td>\n",
       "      <td>6</td>\n",
       "      <td>0</td>\n",
       "      <td>199</td>\n",
       "    </tr>\n",
       "    <tr>\n",
       "      <th>3</th>\n",
       "      <td>1</td>\n",
       "      <td>Кира</td>\n",
       "      <td>22</td>\n",
       "      <td>Тюмень</td>\n",
       "      <td>ultra</td>\n",
       "      <td>2694.78</td>\n",
       "      <td>19</td>\n",
       "      <td>2021-08-11</td>\n",
       "      <td>8</td>\n",
       "      <td>6</td>\n",
       "      <td>0</td>\n",
       "      <td>199</td>\n",
       "    </tr>\n",
       "    <tr>\n",
       "      <th>4</th>\n",
       "      <td>1</td>\n",
       "      <td>Кира</td>\n",
       "      <td>22</td>\n",
       "      <td>Тюмень</td>\n",
       "      <td>ultra</td>\n",
       "      <td>4028.69</td>\n",
       "      <td>27</td>\n",
       "      <td>2021-08-28</td>\n",
       "      <td>8</td>\n",
       "      <td>6</td>\n",
       "      <td>0</td>\n",
       "      <td>199</td>\n",
       "    </tr>\n",
       "  </tbody>\n",
       "</table>\n",
       "</div>"
      ],
      "text/plain": [
       "   user_id  name  age    city subscription_type  distance  duration  \\\n",
       "0        1  Кира   22  Тюмень             ultra   4409.92        26   \n",
       "1        1  Кира   22  Тюмень             ultra   2617.59        16   \n",
       "2        1  Кира   22  Тюмень             ultra    754.16         7   \n",
       "3        1  Кира   22  Тюмень             ultra   2694.78        19   \n",
       "4        1  Кира   22  Тюмень             ultra   4028.69        27   \n",
       "\n",
       "        date  month  minute_price  start_ride_price  subscription_fee  \n",
       "0 2021-01-01      1             6                 0               199  \n",
       "1 2021-01-18      1             6                 0               199  \n",
       "2 2021-04-20      4             6                 0               199  \n",
       "3 2021-08-11      8             6                 0               199  \n",
       "4 2021-08-28      8             6                 0               199  "
      ]
     },
     "execution_count": 51,
     "metadata": {},
     "output_type": "execute_result"
    }
   ],
   "source": [
    "data = df_users.merge(df_rides, on='user_id').merge(df_subscriptions, on='subscription_type')\n",
    "data.head()"
   ]
  },
  {
   "cell_type": "code",
   "execution_count": 52,
   "id": "1d399e9e",
   "metadata": {},
   "outputs": [
    {
     "name": "stdout",
     "output_type": "stream",
     "text": [
      "<class 'pandas.core.frame.DataFrame'>\n",
      "RangeIndex: 18068 entries, 0 to 18067\n",
      "Data columns (total 12 columns):\n",
      " #   Column             Non-Null Count  Dtype         \n",
      "---  ------             --------------  -----         \n",
      " 0   user_id            18068 non-null  int64         \n",
      " 1   name               18068 non-null  object        \n",
      " 2   age                18068 non-null  int64         \n",
      " 3   city               18068 non-null  object        \n",
      " 4   subscription_type  18068 non-null  object        \n",
      " 5   distance           18068 non-null  float64       \n",
      " 6   duration           18068 non-null  int32         \n",
      " 7   date               18068 non-null  datetime64[ns]\n",
      " 8   month              18068 non-null  int32         \n",
      " 9   minute_price       18068 non-null  int64         \n",
      " 10  start_ride_price   18068 non-null  int64         \n",
      " 11  subscription_fee   18068 non-null  int64         \n",
      "dtypes: datetime64[ns](1), float64(1), int32(2), int64(5), object(3)\n",
      "memory usage: 1.5+ MB\n"
     ]
    }
   ],
   "source": [
    "# проверка\n",
    "data.info()"
   ]
  },
  {
   "cell_type": "markdown",
   "id": "969cd45d",
   "metadata": {},
   "source": [
    "### Создадим датафрейм с данными о пользователях без подписки"
   ]
  },
  {
   "cell_type": "code",
   "execution_count": 55,
   "id": "e8ba8913",
   "metadata": {},
   "outputs": [
    {
     "data": {
      "text/html": [
       "<div>\n",
       "<style scoped>\n",
       "    .dataframe tbody tr th:only-of-type {\n",
       "        vertical-align: middle;\n",
       "    }\n",
       "\n",
       "    .dataframe tbody tr th {\n",
       "        vertical-align: top;\n",
       "    }\n",
       "\n",
       "    .dataframe thead th {\n",
       "        text-align: right;\n",
       "    }\n",
       "</style>\n",
       "<table border=\"1\" class=\"dataframe\">\n",
       "  <thead>\n",
       "    <tr style=\"text-align: right;\">\n",
       "      <th></th>\n",
       "      <th>user_id</th>\n",
       "      <th>name</th>\n",
       "      <th>age</th>\n",
       "      <th>city</th>\n",
       "      <th>subscription_type</th>\n",
       "      <th>distance</th>\n",
       "      <th>duration</th>\n",
       "      <th>date</th>\n",
       "      <th>month</th>\n",
       "      <th>minute_price</th>\n",
       "      <th>start_ride_price</th>\n",
       "      <th>subscription_fee</th>\n",
       "    </tr>\n",
       "  </thead>\n",
       "  <tbody>\n",
       "    <tr>\n",
       "      <th>6500</th>\n",
       "      <td>700</td>\n",
       "      <td>Айдар</td>\n",
       "      <td>22</td>\n",
       "      <td>Омск</td>\n",
       "      <td>free</td>\n",
       "      <td>2515.69</td>\n",
       "      <td>15</td>\n",
       "      <td>2021-01-02</td>\n",
       "      <td>1</td>\n",
       "      <td>8</td>\n",
       "      <td>50</td>\n",
       "      <td>0</td>\n",
       "    </tr>\n",
       "    <tr>\n",
       "      <th>6501</th>\n",
       "      <td>700</td>\n",
       "      <td>Айдар</td>\n",
       "      <td>22</td>\n",
       "      <td>Омск</td>\n",
       "      <td>free</td>\n",
       "      <td>846.93</td>\n",
       "      <td>17</td>\n",
       "      <td>2021-02-01</td>\n",
       "      <td>2</td>\n",
       "      <td>8</td>\n",
       "      <td>50</td>\n",
       "      <td>0</td>\n",
       "    </tr>\n",
       "    <tr>\n",
       "      <th>6502</th>\n",
       "      <td>700</td>\n",
       "      <td>Айдар</td>\n",
       "      <td>22</td>\n",
       "      <td>Омск</td>\n",
       "      <td>free</td>\n",
       "      <td>4004.43</td>\n",
       "      <td>21</td>\n",
       "      <td>2021-02-04</td>\n",
       "      <td>2</td>\n",
       "      <td>8</td>\n",
       "      <td>50</td>\n",
       "      <td>0</td>\n",
       "    </tr>\n",
       "    <tr>\n",
       "      <th>6503</th>\n",
       "      <td>700</td>\n",
       "      <td>Айдар</td>\n",
       "      <td>22</td>\n",
       "      <td>Омск</td>\n",
       "      <td>free</td>\n",
       "      <td>1205.91</td>\n",
       "      <td>10</td>\n",
       "      <td>2021-02-10</td>\n",
       "      <td>2</td>\n",
       "      <td>8</td>\n",
       "      <td>50</td>\n",
       "      <td>0</td>\n",
       "    </tr>\n",
       "    <tr>\n",
       "      <th>6504</th>\n",
       "      <td>700</td>\n",
       "      <td>Айдар</td>\n",
       "      <td>22</td>\n",
       "      <td>Омск</td>\n",
       "      <td>free</td>\n",
       "      <td>3047.38</td>\n",
       "      <td>18</td>\n",
       "      <td>2021-02-14</td>\n",
       "      <td>2</td>\n",
       "      <td>8</td>\n",
       "      <td>50</td>\n",
       "      <td>0</td>\n",
       "    </tr>\n",
       "  </tbody>\n",
       "</table>\n",
       "</div>"
      ],
      "text/plain": [
       "      user_id   name  age  city subscription_type  distance  duration  \\\n",
       "6500      700  Айдар   22  Омск              free   2515.69        15   \n",
       "6501      700  Айдар   22  Омск              free    846.93        17   \n",
       "6502      700  Айдар   22  Омск              free   4004.43        21   \n",
       "6503      700  Айдар   22  Омск              free   1205.91        10   \n",
       "6504      700  Айдар   22  Омск              free   3047.38        18   \n",
       "\n",
       "           date  month  minute_price  start_ride_price  subscription_fee  \n",
       "6500 2021-01-02      1             8                50                 0  \n",
       "6501 2021-02-01      2             8                50                 0  \n",
       "6502 2021-02-04      2             8                50                 0  \n",
       "6503 2021-02-10      2             8                50                 0  \n",
       "6504 2021-02-14      2             8                50                 0  "
      ]
     },
     "execution_count": 55,
     "metadata": {},
     "output_type": "execute_result"
    }
   ],
   "source": [
    "free_users = data.loc[data['subscription_type'] == 'free']\n",
    "free_users.head()"
   ]
  },
  {
   "cell_type": "code",
   "execution_count": 56,
   "id": "226df397",
   "metadata": {},
   "outputs": [
    {
     "data": {
      "image/png": "[encoded data removed]",
      "text/plain": [
       "<Figure size 640x480 with 1 Axes>"
      ]
     },
     "metadata": {},
     "output_type": "display_data"
    }
   ],
   "source": [
    "# построим график для этих пользователей по расстоянию\n",
    "plt.hist(free_users['distance'], bins=30, range=(0,7000))\n",
    "plt.title('Расстояние, бесплатный тариф')\n",
    "plt.xlabel('Расстояние (м)')\n",
    "plt.ylabel('Количество поездок')\n",
    "plt.grid()\n",
    "plt.show()"
   ]
  },
  {
   "cell_type": "code",
   "execution_count": 57,
   "id": "b74f8af3",
   "metadata": {},
   "outputs": [
    {
     "data": {
      "image/png": "[encoded data removed]",
      "text/plain": [
       "<Figure size 640x480 with 1 Axes>"
      ]
     },
     "metadata": {},
     "output_type": "display_data"
    }
   ],
   "source": [
    "# построим график для этих пользователей по времени\n",
    "plt.hist(free_users['duration'], bins=40, range = (0, 40))\n",
    "plt.title('Время, бесплатный тариф')\n",
    "plt.xlabel('Время мин.')\n",
    "plt.ylabel('Количество поездок')\n",
    "plt.grid()\n",
    "plt.show()"
   ]
  },
  {
   "cell_type": "code",
   "execution_count": 58,
   "id": "a46a5b79",
   "metadata": {},
   "outputs": [
    {
     "data": {
      "text/plain": [
       "count    11568.000000\n",
       "mean      3045.495284\n",
       "std       1246.173810\n",
       "min          0.860000\n",
       "25%       2366.560000\n",
       "50%       3114.650000\n",
       "75%       3905.695000\n",
       "max       7211.010000\n",
       "Name: distance, dtype: float64"
      ]
     },
     "execution_count": 58,
     "metadata": {},
     "output_type": "execute_result"
    }
   ],
   "source": [
    "free_users['distance'].describe()"
   ]
  },
  {
   "cell_type": "code",
   "execution_count": 59,
   "id": "4731819e",
   "metadata": {},
   "outputs": [
    {
     "data": {
      "text/plain": [
       "count    11568.000000\n",
       "mean        17.890992\n",
       "std          6.330250\n",
       "min          1.000000\n",
       "25%         13.000000\n",
       "50%         18.000000\n",
       "75%         22.000000\n",
       "max         35.000000\n",
       "Name: duration, dtype: float64"
      ]
     },
     "execution_count": 59,
     "metadata": {},
     "output_type": "execute_result"
    }
   ],
   "source": [
    "free_users['duration'].describe()"
   ]
  },
  {
   "cell_type": "markdown",
   "id": "1c5ae446",
   "metadata": {},
   "source": [
    "Пользователи с бесплатным тарифом пользуются сервисом для поездок на расстояния от 2 до 4 км., продолжительностью от 13 до 22 минут. Именно среди этих пользователей присутствуют поездки с расстоянием в 0,86 метра и длительностью 1 минута."
   ]
  },
  {
   "cell_type": "markdown",
   "id": "bdea295d",
   "metadata": {},
   "source": [
    "### Создадим датафрейм с данными о пользователях с подпиской"
   ]
  },
  {
   "cell_type": "code",
   "execution_count": 62,
   "id": "3cd2379a",
   "metadata": {},
   "outputs": [
    {
     "data": {
      "text/html": [
       "<div>\n",
       "<style scoped>\n",
       "    .dataframe tbody tr th:only-of-type {\n",
       "        vertical-align: middle;\n",
       "    }\n",
       "\n",
       "    .dataframe tbody tr th {\n",
       "        vertical-align: top;\n",
       "    }\n",
       "\n",
       "    .dataframe thead th {\n",
       "        text-align: right;\n",
       "    }\n",
       "</style>\n",
       "<table border=\"1\" class=\"dataframe\">\n",
       "  <thead>\n",
       "    <tr style=\"text-align: right;\">\n",
       "      <th></th>\n",
       "      <th>user_id</th>\n",
       "      <th>name</th>\n",
       "      <th>age</th>\n",
       "      <th>city</th>\n",
       "      <th>subscription_type</th>\n",
       "      <th>distance</th>\n",
       "      <th>duration</th>\n",
       "      <th>date</th>\n",
       "      <th>month</th>\n",
       "      <th>minute_price</th>\n",
       "      <th>start_ride_price</th>\n",
       "      <th>subscription_fee</th>\n",
       "    </tr>\n",
       "  </thead>\n",
       "  <tbody>\n",
       "    <tr>\n",
       "      <th>0</th>\n",
       "      <td>1</td>\n",
       "      <td>Кира</td>\n",
       "      <td>22</td>\n",
       "      <td>Тюмень</td>\n",
       "      <td>ultra</td>\n",
       "      <td>4409.92</td>\n",
       "      <td>26</td>\n",
       "      <td>2021-01-01</td>\n",
       "      <td>1</td>\n",
       "      <td>6</td>\n",
       "      <td>0</td>\n",
       "      <td>199</td>\n",
       "    </tr>\n",
       "    <tr>\n",
       "      <th>1</th>\n",
       "      <td>1</td>\n",
       "      <td>Кира</td>\n",
       "      <td>22</td>\n",
       "      <td>Тюмень</td>\n",
       "      <td>ultra</td>\n",
       "      <td>2617.59</td>\n",
       "      <td>16</td>\n",
       "      <td>2021-01-18</td>\n",
       "      <td>1</td>\n",
       "      <td>6</td>\n",
       "      <td>0</td>\n",
       "      <td>199</td>\n",
       "    </tr>\n",
       "    <tr>\n",
       "      <th>2</th>\n",
       "      <td>1</td>\n",
       "      <td>Кира</td>\n",
       "      <td>22</td>\n",
       "      <td>Тюмень</td>\n",
       "      <td>ultra</td>\n",
       "      <td>754.16</td>\n",
       "      <td>7</td>\n",
       "      <td>2021-04-20</td>\n",
       "      <td>4</td>\n",
       "      <td>6</td>\n",
       "      <td>0</td>\n",
       "      <td>199</td>\n",
       "    </tr>\n",
       "    <tr>\n",
       "      <th>3</th>\n",
       "      <td>1</td>\n",
       "      <td>Кира</td>\n",
       "      <td>22</td>\n",
       "      <td>Тюмень</td>\n",
       "      <td>ultra</td>\n",
       "      <td>2694.78</td>\n",
       "      <td>19</td>\n",
       "      <td>2021-08-11</td>\n",
       "      <td>8</td>\n",
       "      <td>6</td>\n",
       "      <td>0</td>\n",
       "      <td>199</td>\n",
       "    </tr>\n",
       "    <tr>\n",
       "      <th>4</th>\n",
       "      <td>1</td>\n",
       "      <td>Кира</td>\n",
       "      <td>22</td>\n",
       "      <td>Тюмень</td>\n",
       "      <td>ultra</td>\n",
       "      <td>4028.69</td>\n",
       "      <td>27</td>\n",
       "      <td>2021-08-28</td>\n",
       "      <td>8</td>\n",
       "      <td>6</td>\n",
       "      <td>0</td>\n",
       "      <td>199</td>\n",
       "    </tr>\n",
       "  </tbody>\n",
       "</table>\n",
       "</div>"
      ],
      "text/plain": [
       "   user_id  name  age    city subscription_type  distance  duration  \\\n",
       "0        1  Кира   22  Тюмень             ultra   4409.92        26   \n",
       "1        1  Кира   22  Тюмень             ultra   2617.59        16   \n",
       "2        1  Кира   22  Тюмень             ultra    754.16         7   \n",
       "3        1  Кира   22  Тюмень             ultra   2694.78        19   \n",
       "4        1  Кира   22  Тюмень             ultra   4028.69        27   \n",
       "\n",
       "        date  month  minute_price  start_ride_price  subscription_fee  \n",
       "0 2021-01-01      1             6                 0               199  \n",
       "1 2021-01-18      1             6                 0               199  \n",
       "2 2021-04-20      4             6                 0               199  \n",
       "3 2021-08-11      8             6                 0               199  \n",
       "4 2021-08-28      8             6                 0               199  "
      ]
     },
     "execution_count": 62,
     "metadata": {},
     "output_type": "execute_result"
    }
   ],
   "source": [
    "ultra_users = data.loc[data['subscription_type'] == 'ultra']\n",
    "ultra_users.head()"
   ]
  },
  {
   "cell_type": "code",
   "execution_count": 63,
   "id": "2725b525",
   "metadata": {},
   "outputs": [
    {
     "data": {
      "image/png": "[encoded data removed]",
      "text/plain": [
       "<Figure size 640x480 with 1 Axes>"
      ]
     },
     "metadata": {},
     "output_type": "display_data"
    }
   ],
   "source": [
    "# построим график для этих пользователей по расстоянию\n",
    "plt.hist(ultra_users['distance'], bins=50, range=(0,7000))\n",
    "plt.title('Расстояние, платный тариф')\n",
    "plt.xlabel('Расстояние (м)')\n",
    "plt.ylabel('Количество поездок')\n",
    "plt.grid()\n",
    "plt.show()"
   ]
  },
  {
   "cell_type": "code",
   "execution_count": 64,
   "id": "66bab304",
   "metadata": {},
   "outputs": [
    {
     "data": {
      "image/png": "[encoded data removed]",
      "text/plain": [
       "<Figure size 640x480 with 1 Axes>"
      ]
     },
     "metadata": {},
     "output_type": "display_data"
    }
   ],
   "source": [
    "# построим график для этих пользователей по времени\n",
    "plt.hist(ultra_users['duration'], bins=40, range=(0,40))\n",
    "plt.title('Время, платный тариф')\n",
    "plt.xlabel('Время мин')\n",
    "plt.ylabel('Количество поездок')\n",
    "plt.grid()\n",
    "plt.show()"
   ]
  },
  {
   "cell_type": "code",
   "execution_count": 65,
   "id": "bf00e694",
   "metadata": {},
   "outputs": [
    {
     "data": {
      "text/plain": [
       "count    6500.000000\n",
       "mean     3115.445431\n",
       "std       836.895369\n",
       "min       244.210000\n",
       "25%      2785.447500\n",
       "50%      3148.640000\n",
       "75%      3560.577500\n",
       "max      5699.770000\n",
       "Name: distance, dtype: float64"
      ]
     },
     "execution_count": 65,
     "metadata": {},
     "output_type": "execute_result"
    }
   ],
   "source": [
    "ultra_users['distance'].describe()"
   ]
  },
  {
   "cell_type": "code",
   "execution_count": 66,
   "id": "bd29468d",
   "metadata": {},
   "outputs": [
    {
     "data": {
      "text/plain": [
       "count    6500.000000\n",
       "mean       19.037692\n",
       "std         5.577439\n",
       "min         4.000000\n",
       "25%        15.000000\n",
       "50%        19.000000\n",
       "75%        22.000000\n",
       "max        41.000000\n",
       "Name: duration, dtype: float64"
      ]
     },
     "execution_count": 66,
     "metadata": {},
     "output_type": "execute_result"
    }
   ],
   "source": [
    "ultra_users['duration'].describe()"
   ]
  },
  {
   "cell_type": "markdown",
   "id": "f38bf3b3",
   "metadata": {},
   "source": [
    "Пользователи с подпиской тратят на поездку от 15 до 22 минут, преодолевают расстояние, в среднем, от 2,7 км до 3,5 км."
   ]
  },
  {
   "cell_type": "code",
   "execution_count": 68,
   "id": "88c0df2f",
   "metadata": {},
   "outputs": [
    {
     "data": {
      "image/png": "[encoded data removed]",
      "text/plain": [
       "<Figure size 640x480 with 1 Axes>"
      ]
     },
     "metadata": {},
     "output_type": "display_data"
    }
   ],
   "source": [
    "# построим сравнительные графики\n",
    "plt.hist([free_users['distance'], ultra_users['distance']], bins=50, range=(1,7200), label=['free', 'ultra'])\n",
    "plt.legend(loc='upper right')\n",
    "plt.title('Количество поездок в зависимости расстояния')\n",
    "plt.xlabel('Расстояние (м)')\n",
    "plt.ylabel('Количество поездок')\n",
    "plt.show()"
   ]
  },
  {
   "cell_type": "code",
   "execution_count": 69,
   "id": "78c487d4",
   "metadata": {},
   "outputs": [
    {
     "data": {
      "image/png": "[encoded data removed]",
      "text/plain": [
       "<Figure size 640x480 with 1 Axes>"
      ]
     },
     "metadata": {},
     "output_type": "display_data"
    }
   ],
   "source": [
    "plt.hist([free_users['duration'], ultra_users['duration']], bins=30, range=(1,30), label=['free', 'ultra'])\n",
    "plt.legend(loc='upper right')\n",
    "plt.title('Количество поездок в зависимости от продолжительности')\n",
    "plt.xlabel('Продолжительность поездки, мин')\n",
    "plt.ylabel('Количество поездок')\n",
    "plt.show()"
   ]
  },
  {
   "cell_type": "markdown",
   "id": "08df5651",
   "metadata": {},
   "source": [
    "**Вывод по разделу:**\n",
    "\n",
    "Объединили данные о пользователях, поездках и тарифах в один датафрейм.\n",
    "\n",
    "Выделили два датафрейма на основе data:\n",
    "\n",
    "- free_users - данные о пользователях с бесплатным тарифом\n",
    "- ultra_users - данные о пользователях с платным тарифом\n",
    "\n",
    "Визуализировали информацию о расстоянии и времени для каждого из тарифов.\n",
    "\n",
    "Для бесплатного тарифа время поездки составляет от 13 до 22 минут, и проезжают от 2 до 4 км. Есть пользователи, которые проехали более 6 км., также есть и такие, кто по какой-то причине передумал пользоваться сервисом - их время в пути 1 минута.\n",
    "\n",
    "Пользователи с подпиской, в основном, укладываются в промежуток от 15 до 22 минут. Большинство преодолевают расстояние около 3 км, - об этом нам сообщает пик на графике.\n",
    "\n",
    "Таким образом, можно сделать вывод, что пользователи с бесплатным тарифом в целом совершают больше поездок и их дистанция более разнообразна. "
   ]
  },
  {
   "cell_type": "markdown",
   "id": "402d620f",
   "metadata": {},
   "source": [
    "## Подсчёт выручки\n",
    "### Датафрейм с агрегированными данными о поездках на основе data\n",
    "\n",
    "Найдем для каждого пользователя за каждый месяц: \n",
    "1. Суммарное расстояние\n",
    "2. Количество поездок\n",
    "3. Суммарное время"
   ]
  },
  {
   "cell_type": "code",
   "execution_count": 73,
   "id": "53049e0a",
   "metadata": {},
   "outputs": [
    {
     "data": {
      "text/html": [
       "<div>\n",
       "<style scoped>\n",
       "    .dataframe tbody tr th:only-of-type {\n",
       "        vertical-align: middle;\n",
       "    }\n",
       "\n",
       "    .dataframe tbody tr th {\n",
       "        vertical-align: top;\n",
       "    }\n",
       "\n",
       "    .dataframe thead th {\n",
       "        text-align: right;\n",
       "    }\n",
       "</style>\n",
       "<table border=\"1\" class=\"dataframe\">\n",
       "  <thead>\n",
       "    <tr style=\"text-align: right;\">\n",
       "      <th></th>\n",
       "      <th></th>\n",
       "      <th>count</th>\n",
       "      <th>distance</th>\n",
       "      <th>duration</th>\n",
       "      <th>minute_price</th>\n",
       "      <th>start_ride_price</th>\n",
       "      <th>subscription_fee</th>\n",
       "      <th>subscription_type</th>\n",
       "    </tr>\n",
       "    <tr>\n",
       "      <th>month</th>\n",
       "      <th>user_id</th>\n",
       "      <th></th>\n",
       "      <th></th>\n",
       "      <th></th>\n",
       "      <th></th>\n",
       "      <th></th>\n",
       "      <th></th>\n",
       "      <th></th>\n",
       "    </tr>\n",
       "  </thead>\n",
       "  <tbody>\n",
       "    <tr>\n",
       "      <th rowspan=\"20\" valign=\"top\">1</th>\n",
       "      <th>1</th>\n",
       "      <td>2</td>\n",
       "      <td>7027.51</td>\n",
       "      <td>42</td>\n",
       "      <td>6.0</td>\n",
       "      <td>0.0</td>\n",
       "      <td>199.0</td>\n",
       "      <td>ultra</td>\n",
       "    </tr>\n",
       "    <tr>\n",
       "      <th>1061</th>\n",
       "      <td>3</td>\n",
       "      <td>12637.25</td>\n",
       "      <td>43</td>\n",
       "      <td>8.0</td>\n",
       "      <td>50.0</td>\n",
       "      <td>0.0</td>\n",
       "      <td>free</td>\n",
       "    </tr>\n",
       "    <tr>\n",
       "      <th>1063</th>\n",
       "      <td>1</td>\n",
       "      <td>3276.36</td>\n",
       "      <td>10</td>\n",
       "      <td>8.0</td>\n",
       "      <td>50.0</td>\n",
       "      <td>0.0</td>\n",
       "      <td>free</td>\n",
       "    </tr>\n",
       "    <tr>\n",
       "      <th>1064</th>\n",
       "      <td>1</td>\n",
       "      <td>5297.32</td>\n",
       "      <td>15</td>\n",
       "      <td>8.0</td>\n",
       "      <td>50.0</td>\n",
       "      <td>0.0</td>\n",
       "      <td>free</td>\n",
       "    </tr>\n",
       "    <tr>\n",
       "      <th>1065</th>\n",
       "      <td>4</td>\n",
       "      <td>14547.10</td>\n",
       "      <td>99</td>\n",
       "      <td>8.0</td>\n",
       "      <td>50.0</td>\n",
       "      <td>0.0</td>\n",
       "      <td>free</td>\n",
       "    </tr>\n",
       "    <tr>\n",
       "      <th>1066</th>\n",
       "      <td>1</td>\n",
       "      <td>2809.06</td>\n",
       "      <td>19</td>\n",
       "      <td>8.0</td>\n",
       "      <td>50.0</td>\n",
       "      <td>0.0</td>\n",
       "      <td>free</td>\n",
       "    </tr>\n",
       "    <tr>\n",
       "      <th>1067</th>\n",
       "      <td>1</td>\n",
       "      <td>3864.90</td>\n",
       "      <td>22</td>\n",
       "      <td>8.0</td>\n",
       "      <td>50.0</td>\n",
       "      <td>0.0</td>\n",
       "      <td>free</td>\n",
       "    </tr>\n",
       "    <tr>\n",
       "      <th>1069</th>\n",
       "      <td>3</td>\n",
       "      <td>7007.08</td>\n",
       "      <td>53</td>\n",
       "      <td>8.0</td>\n",
       "      <td>50.0</td>\n",
       "      <td>0.0</td>\n",
       "      <td>free</td>\n",
       "    </tr>\n",
       "    <tr>\n",
       "      <th>1071</th>\n",
       "      <td>1</td>\n",
       "      <td>3635.09</td>\n",
       "      <td>15</td>\n",
       "      <td>8.0</td>\n",
       "      <td>50.0</td>\n",
       "      <td>0.0</td>\n",
       "      <td>free</td>\n",
       "    </tr>\n",
       "    <tr>\n",
       "      <th>1072</th>\n",
       "      <td>1</td>\n",
       "      <td>2498.62</td>\n",
       "      <td>11</td>\n",
       "      <td>8.0</td>\n",
       "      <td>50.0</td>\n",
       "      <td>0.0</td>\n",
       "      <td>free</td>\n",
       "    </tr>\n",
       "    <tr>\n",
       "      <th>1073</th>\n",
       "      <td>1</td>\n",
       "      <td>2945.80</td>\n",
       "      <td>16</td>\n",
       "      <td>8.0</td>\n",
       "      <td>50.0</td>\n",
       "      <td>0.0</td>\n",
       "      <td>free</td>\n",
       "    </tr>\n",
       "    <tr>\n",
       "      <th>1074</th>\n",
       "      <td>1</td>\n",
       "      <td>2814.79</td>\n",
       "      <td>22</td>\n",
       "      <td>8.0</td>\n",
       "      <td>50.0</td>\n",
       "      <td>0.0</td>\n",
       "      <td>free</td>\n",
       "    </tr>\n",
       "    <tr>\n",
       "      <th>1075</th>\n",
       "      <td>3</td>\n",
       "      <td>5746.75</td>\n",
       "      <td>29</td>\n",
       "      <td>8.0</td>\n",
       "      <td>50.0</td>\n",
       "      <td>0.0</td>\n",
       "      <td>free</td>\n",
       "    </tr>\n",
       "    <tr>\n",
       "      <th>1077</th>\n",
       "      <td>1</td>\n",
       "      <td>114.04</td>\n",
       "      <td>13</td>\n",
       "      <td>8.0</td>\n",
       "      <td>50.0</td>\n",
       "      <td>0.0</td>\n",
       "      <td>free</td>\n",
       "    </tr>\n",
       "    <tr>\n",
       "      <th>1078</th>\n",
       "      <td>1</td>\n",
       "      <td>3748.22</td>\n",
       "      <td>19</td>\n",
       "      <td>8.0</td>\n",
       "      <td>50.0</td>\n",
       "      <td>0.0</td>\n",
       "      <td>free</td>\n",
       "    </tr>\n",
       "    <tr>\n",
       "      <th>1082</th>\n",
       "      <td>2</td>\n",
       "      <td>7250.13</td>\n",
       "      <td>30</td>\n",
       "      <td>8.0</td>\n",
       "      <td>50.0</td>\n",
       "      <td>0.0</td>\n",
       "      <td>free</td>\n",
       "    </tr>\n",
       "    <tr>\n",
       "      <th>1083</th>\n",
       "      <td>2</td>\n",
       "      <td>5848.88</td>\n",
       "      <td>31</td>\n",
       "      <td>8.0</td>\n",
       "      <td>50.0</td>\n",
       "      <td>0.0</td>\n",
       "      <td>free</td>\n",
       "    </tr>\n",
       "    <tr>\n",
       "      <th>1084</th>\n",
       "      <td>1</td>\n",
       "      <td>4615.10</td>\n",
       "      <td>25</td>\n",
       "      <td>8.0</td>\n",
       "      <td>50.0</td>\n",
       "      <td>0.0</td>\n",
       "      <td>free</td>\n",
       "    </tr>\n",
       "    <tr>\n",
       "      <th>1085</th>\n",
       "      <td>3</td>\n",
       "      <td>11410.54</td>\n",
       "      <td>63</td>\n",
       "      <td>8.0</td>\n",
       "      <td>50.0</td>\n",
       "      <td>0.0</td>\n",
       "      <td>free</td>\n",
       "    </tr>\n",
       "    <tr>\n",
       "      <th>1086</th>\n",
       "      <td>1</td>\n",
       "      <td>4044.28</td>\n",
       "      <td>18</td>\n",
       "      <td>8.0</td>\n",
       "      <td>50.0</td>\n",
       "      <td>0.0</td>\n",
       "      <td>free</td>\n",
       "    </tr>\n",
       "  </tbody>\n",
       "</table>\n",
       "</div>"
      ],
      "text/plain": [
       "               count  distance  duration  minute_price  start_ride_price  \\\n",
       "month user_id                                                              \n",
       "1     1            2   7027.51        42           6.0               0.0   \n",
       "      1061         3  12637.25        43           8.0              50.0   \n",
       "      1063         1   3276.36        10           8.0              50.0   \n",
       "      1064         1   5297.32        15           8.0              50.0   \n",
       "      1065         4  14547.10        99           8.0              50.0   \n",
       "      1066         1   2809.06        19           8.0              50.0   \n",
       "      1067         1   3864.90        22           8.0              50.0   \n",
       "      1069         3   7007.08        53           8.0              50.0   \n",
       "      1071         1   3635.09        15           8.0              50.0   \n",
       "      1072         1   2498.62        11           8.0              50.0   \n",
       "      1073         1   2945.80        16           8.0              50.0   \n",
       "      1074         1   2814.79        22           8.0              50.0   \n",
       "      1075         3   5746.75        29           8.0              50.0   \n",
       "      1077         1    114.04        13           8.0              50.0   \n",
       "      1078         1   3748.22        19           8.0              50.0   \n",
       "      1082         2   7250.13        30           8.0              50.0   \n",
       "      1083         2   5848.88        31           8.0              50.0   \n",
       "      1084         1   4615.10        25           8.0              50.0   \n",
       "      1085         3  11410.54        63           8.0              50.0   \n",
       "      1086         1   4044.28        18           8.0              50.0   \n",
       "\n",
       "               subscription_fee subscription_type  \n",
       "month user_id                                      \n",
       "1     1                   199.0             ultra  \n",
       "      1061                  0.0              free  \n",
       "      1063                  0.0              free  \n",
       "      1064                  0.0              free  \n",
       "      1065                  0.0              free  \n",
       "      1066                  0.0              free  \n",
       "      1067                  0.0              free  \n",
       "      1069                  0.0              free  \n",
       "      1071                  0.0              free  \n",
       "      1072                  0.0              free  \n",
       "      1073                  0.0              free  \n",
       "      1074                  0.0              free  \n",
       "      1075                  0.0              free  \n",
       "      1077                  0.0              free  \n",
       "      1078                  0.0              free  \n",
       "      1082                  0.0              free  \n",
       "      1083                  0.0              free  \n",
       "      1084                  0.0              free  \n",
       "      1085                  0.0              free  \n",
       "      1086                  0.0              free  "
      ]
     },
     "execution_count": 73,
     "metadata": {},
     "output_type": "execute_result"
    }
   ],
   "source": [
    "# создадим сводную таблицу\n",
    "user_per_month = data.pivot_table(index=['month', 'user_id'],\n",
    "                                  values=['distance', 'duration', 'minute_price', 'start_ride_price', 'subscription_fee', 'subscription_type'],\n",
    "                                  aggfunc=({'distance':{'count', 'sum'},\n",
    "                                            'duration':'sum', \n",
    "                                            'minute_price': 'mean',\n",
    "                                            'start_ride_price':'mean',\n",
    "                                            'subscription_fee':'mean',\n",
    "                                            'subscription_type':'min'}))\n",
    "                                           \n",
    "\n",
    "user_per_month.columns=['count', 'distance', 'duration', 'minute_price', 'start_ride_price', 'subscription_fee', 'subscription_type']\n",
    "\n",
    "user_per_month.sort_values(by='month').head(20)"
   ]
  },
  {
   "cell_type": "markdown",
   "id": "26cfbc68",
   "metadata": {},
   "source": [
    "### Добавление данных с выручкой для каждого пользователя"
   ]
  },
  {
   "cell_type": "code",
   "execution_count": 75,
   "id": "00bac8a8",
   "metadata": {},
   "outputs": [
    {
     "data": {
      "text/html": [
       "<div>\n",
       "<style scoped>\n",
       "    .dataframe tbody tr th:only-of-type {\n",
       "        vertical-align: middle;\n",
       "    }\n",
       "\n",
       "    .dataframe tbody tr th {\n",
       "        vertical-align: top;\n",
       "    }\n",
       "\n",
       "    .dataframe thead th {\n",
       "        text-align: right;\n",
       "    }\n",
       "</style>\n",
       "<table border=\"1\" class=\"dataframe\">\n",
       "  <thead>\n",
       "    <tr style=\"text-align: right;\">\n",
       "      <th></th>\n",
       "      <th></th>\n",
       "      <th>count</th>\n",
       "      <th>distance</th>\n",
       "      <th>duration</th>\n",
       "      <th>minute_price</th>\n",
       "      <th>start_ride_price</th>\n",
       "      <th>subscription_fee</th>\n",
       "      <th>subscription_type</th>\n",
       "      <th>revenue</th>\n",
       "    </tr>\n",
       "    <tr>\n",
       "      <th>month</th>\n",
       "      <th>user_id</th>\n",
       "      <th></th>\n",
       "      <th></th>\n",
       "      <th></th>\n",
       "      <th></th>\n",
       "      <th></th>\n",
       "      <th></th>\n",
       "      <th></th>\n",
       "      <th></th>\n",
       "    </tr>\n",
       "  </thead>\n",
       "  <tbody>\n",
       "    <tr>\n",
       "      <th>7</th>\n",
       "      <th>770</th>\n",
       "      <td>2</td>\n",
       "      <td>4123.61</td>\n",
       "      <td>20</td>\n",
       "      <td>8.0</td>\n",
       "      <td>50.0</td>\n",
       "      <td>0.0</td>\n",
       "      <td>free</td>\n",
       "      <td>260.0</td>\n",
       "    </tr>\n",
       "    <tr>\n",
       "      <th>9</th>\n",
       "      <th>1180</th>\n",
       "      <td>2</td>\n",
       "      <td>5564.14</td>\n",
       "      <td>35</td>\n",
       "      <td>8.0</td>\n",
       "      <td>50.0</td>\n",
       "      <td>0.0</td>\n",
       "      <td>free</td>\n",
       "      <td>380.0</td>\n",
       "    </tr>\n",
       "    <tr>\n",
       "      <th>12</th>\n",
       "      <th>626</th>\n",
       "      <td>1</td>\n",
       "      <td>1479.50</td>\n",
       "      <td>19</td>\n",
       "      <td>6.0</td>\n",
       "      <td>0.0</td>\n",
       "      <td>199.0</td>\n",
       "      <td>ultra</td>\n",
       "      <td>313.0</td>\n",
       "    </tr>\n",
       "    <tr>\n",
       "      <th>4</th>\n",
       "      <th>560</th>\n",
       "      <td>2</td>\n",
       "      <td>7990.18</td>\n",
       "      <td>50</td>\n",
       "      <td>6.0</td>\n",
       "      <td>0.0</td>\n",
       "      <td>199.0</td>\n",
       "      <td>ultra</td>\n",
       "      <td>499.0</td>\n",
       "    </tr>\n",
       "    <tr>\n",
       "      <th>9</th>\n",
       "      <th>37</th>\n",
       "      <td>2</td>\n",
       "      <td>4030.96</td>\n",
       "      <td>32</td>\n",
       "      <td>6.0</td>\n",
       "      <td>0.0</td>\n",
       "      <td>199.0</td>\n",
       "      <td>ultra</td>\n",
       "      <td>391.0</td>\n",
       "    </tr>\n",
       "    <tr>\n",
       "      <th>8</th>\n",
       "      <th>1118</th>\n",
       "      <td>2</td>\n",
       "      <td>5978.50</td>\n",
       "      <td>23</td>\n",
       "      <td>8.0</td>\n",
       "      <td>50.0</td>\n",
       "      <td>0.0</td>\n",
       "      <td>free</td>\n",
       "      <td>284.0</td>\n",
       "    </tr>\n",
       "    <tr>\n",
       "      <th>4</th>\n",
       "      <th>1029</th>\n",
       "      <td>2</td>\n",
       "      <td>6708.44</td>\n",
       "      <td>46</td>\n",
       "      <td>8.0</td>\n",
       "      <td>50.0</td>\n",
       "      <td>0.0</td>\n",
       "      <td>free</td>\n",
       "      <td>468.0</td>\n",
       "    </tr>\n",
       "    <tr>\n",
       "      <th>1</th>\n",
       "      <th>1126</th>\n",
       "      <td>2</td>\n",
       "      <td>8053.90</td>\n",
       "      <td>44</td>\n",
       "      <td>8.0</td>\n",
       "      <td>50.0</td>\n",
       "      <td>0.0</td>\n",
       "      <td>free</td>\n",
       "      <td>452.0</td>\n",
       "    </tr>\n",
       "    <tr>\n",
       "      <th>6</th>\n",
       "      <th>1047</th>\n",
       "      <td>2</td>\n",
       "      <td>3576.59</td>\n",
       "      <td>24</td>\n",
       "      <td>8.0</td>\n",
       "      <td>50.0</td>\n",
       "      <td>0.0</td>\n",
       "      <td>free</td>\n",
       "      <td>292.0</td>\n",
       "    </tr>\n",
       "    <tr>\n",
       "      <th>2</th>\n",
       "      <th>849</th>\n",
       "      <td>2</td>\n",
       "      <td>7904.35</td>\n",
       "      <td>36</td>\n",
       "      <td>8.0</td>\n",
       "      <td>50.0</td>\n",
       "      <td>0.0</td>\n",
       "      <td>free</td>\n",
       "      <td>388.0</td>\n",
       "    </tr>\n",
       "  </tbody>\n",
       "</table>\n",
       "</div>"
      ],
      "text/plain": [
       "               count  distance  duration  minute_price  start_ride_price  \\\n",
       "month user_id                                                              \n",
       "7     770          2   4123.61        20           8.0              50.0   \n",
       "9     1180         2   5564.14        35           8.0              50.0   \n",
       "12    626          1   1479.50        19           6.0               0.0   \n",
       "4     560          2   7990.18        50           6.0               0.0   \n",
       "9     37           2   4030.96        32           6.0               0.0   \n",
       "8     1118         2   5978.50        23           8.0              50.0   \n",
       "4     1029         2   6708.44        46           8.0              50.0   \n",
       "1     1126         2   8053.90        44           8.0              50.0   \n",
       "6     1047         2   3576.59        24           8.0              50.0   \n",
       "2     849          2   7904.35        36           8.0              50.0   \n",
       "\n",
       "               subscription_fee subscription_type  revenue  \n",
       "month user_id                                               \n",
       "7     770                   0.0              free    260.0  \n",
       "9     1180                  0.0              free    380.0  \n",
       "12    626                 199.0             ultra    313.0  \n",
       "4     560                 199.0             ultra    499.0  \n",
       "9     37                  199.0             ultra    391.0  \n",
       "8     1118                  0.0              free    284.0  \n",
       "4     1029                  0.0              free    468.0  \n",
       "1     1126                  0.0              free    452.0  \n",
       "6     1047                  0.0              free    292.0  \n",
       "2     849                   0.0              free    388.0  "
      ]
     },
     "execution_count": 75,
     "metadata": {},
     "output_type": "execute_result"
    }
   ],
   "source": [
    "user_per_month['revenue'] = (\n",
    "    user_per_month['start_ride_price'] * user_per_month['count'] + \n",
    "    user_per_month['minute_price'] * user_per_month['duration'] + \n",
    "    user_per_month['subscription_fee'])\n",
    "\n",
    "user_per_month.sample(10)"
   ]
  },
  {
   "cell_type": "code",
   "execution_count": 76,
   "id": "91e02848",
   "metadata": {},
   "outputs": [
    {
     "data": {
      "text/html": [
       "<div>\n",
       "<style scoped>\n",
       "    .dataframe tbody tr th:only-of-type {\n",
       "        vertical-align: middle;\n",
       "    }\n",
       "\n",
       "    .dataframe tbody tr th {\n",
       "        vertical-align: top;\n",
       "    }\n",
       "\n",
       "    .dataframe thead th {\n",
       "        text-align: right;\n",
       "    }\n",
       "</style>\n",
       "<table border=\"1\" class=\"dataframe\">\n",
       "  <thead>\n",
       "    <tr style=\"text-align: right;\">\n",
       "      <th></th>\n",
       "      <th></th>\n",
       "      <th>count</th>\n",
       "      <th>distance</th>\n",
       "      <th>duration</th>\n",
       "      <th>minute_price</th>\n",
       "      <th>start_ride_price</th>\n",
       "      <th>subscription_fee</th>\n",
       "      <th>subscription_type</th>\n",
       "      <th>revenue</th>\n",
       "    </tr>\n",
       "    <tr>\n",
       "      <th>month</th>\n",
       "      <th>user_id</th>\n",
       "      <th></th>\n",
       "      <th></th>\n",
       "      <th></th>\n",
       "      <th></th>\n",
       "      <th></th>\n",
       "      <th></th>\n",
       "      <th></th>\n",
       "      <th></th>\n",
       "    </tr>\n",
       "  </thead>\n",
       "  <tbody>\n",
       "    <tr>\n",
       "      <th>1</th>\n",
       "      <th>7</th>\n",
       "      <td>2</td>\n",
       "      <td>6478.08</td>\n",
       "      <td>28</td>\n",
       "      <td>6.0</td>\n",
       "      <td>0.0</td>\n",
       "      <td>199.0</td>\n",
       "      <td>ultra</td>\n",
       "      <td>367.0</td>\n",
       "    </tr>\n",
       "    <tr>\n",
       "      <th>3</th>\n",
       "      <th>7</th>\n",
       "      <td>1</td>\n",
       "      <td>3679.56</td>\n",
       "      <td>21</td>\n",
       "      <td>6.0</td>\n",
       "      <td>0.0</td>\n",
       "      <td>199.0</td>\n",
       "      <td>ultra</td>\n",
       "      <td>325.0</td>\n",
       "    </tr>\n",
       "    <tr>\n",
       "      <th>4</th>\n",
       "      <th>7</th>\n",
       "      <td>2</td>\n",
       "      <td>4888.95</td>\n",
       "      <td>38</td>\n",
       "      <td>6.0</td>\n",
       "      <td>0.0</td>\n",
       "      <td>199.0</td>\n",
       "      <td>ultra</td>\n",
       "      <td>427.0</td>\n",
       "    </tr>\n",
       "    <tr>\n",
       "      <th>5</th>\n",
       "      <th>7</th>\n",
       "      <td>1</td>\n",
       "      <td>2971.56</td>\n",
       "      <td>15</td>\n",
       "      <td>6.0</td>\n",
       "      <td>0.0</td>\n",
       "      <td>199.0</td>\n",
       "      <td>ultra</td>\n",
       "      <td>289.0</td>\n",
       "    </tr>\n",
       "    <tr>\n",
       "      <th>6</th>\n",
       "      <th>7</th>\n",
       "      <td>1</td>\n",
       "      <td>2508.55</td>\n",
       "      <td>19</td>\n",
       "      <td>6.0</td>\n",
       "      <td>0.0</td>\n",
       "      <td>199.0</td>\n",
       "      <td>ultra</td>\n",
       "      <td>313.0</td>\n",
       "    </tr>\n",
       "    <tr>\n",
       "      <th>7</th>\n",
       "      <th>7</th>\n",
       "      <td>2</td>\n",
       "      <td>6097.83</td>\n",
       "      <td>35</td>\n",
       "      <td>6.0</td>\n",
       "      <td>0.0</td>\n",
       "      <td>199.0</td>\n",
       "      <td>ultra</td>\n",
       "      <td>409.0</td>\n",
       "    </tr>\n",
       "    <tr>\n",
       "      <th>8</th>\n",
       "      <th>7</th>\n",
       "      <td>1</td>\n",
       "      <td>3008.26</td>\n",
       "      <td>15</td>\n",
       "      <td>6.0</td>\n",
       "      <td>0.0</td>\n",
       "      <td>199.0</td>\n",
       "      <td>ultra</td>\n",
       "      <td>289.0</td>\n",
       "    </tr>\n",
       "    <tr>\n",
       "      <th>11</th>\n",
       "      <th>7</th>\n",
       "      <td>4</td>\n",
       "      <td>12879.35</td>\n",
       "      <td>67</td>\n",
       "      <td>6.0</td>\n",
       "      <td>0.0</td>\n",
       "      <td>199.0</td>\n",
       "      <td>ultra</td>\n",
       "      <td>601.0</td>\n",
       "    </tr>\n",
       "    <tr>\n",
       "      <th>12</th>\n",
       "      <th>7</th>\n",
       "      <td>2</td>\n",
       "      <td>6195.34</td>\n",
       "      <td>30</td>\n",
       "      <td>6.0</td>\n",
       "      <td>0.0</td>\n",
       "      <td>199.0</td>\n",
       "      <td>ultra</td>\n",
       "      <td>379.0</td>\n",
       "    </tr>\n",
       "  </tbody>\n",
       "</table>\n",
       "</div>"
      ],
      "text/plain": [
       "               count  distance  duration  minute_price  start_ride_price  \\\n",
       "month user_id                                                              \n",
       "1     7            2   6478.08        28           6.0               0.0   \n",
       "3     7            1   3679.56        21           6.0               0.0   \n",
       "4     7            2   4888.95        38           6.0               0.0   \n",
       "5     7            1   2971.56        15           6.0               0.0   \n",
       "6     7            1   2508.55        19           6.0               0.0   \n",
       "7     7            2   6097.83        35           6.0               0.0   \n",
       "8     7            1   3008.26        15           6.0               0.0   \n",
       "11    7            4  12879.35        67           6.0               0.0   \n",
       "12    7            2   6195.34        30           6.0               0.0   \n",
       "\n",
       "               subscription_fee subscription_type  revenue  \n",
       "month user_id                                               \n",
       "1     7                   199.0             ultra    367.0  \n",
       "3     7                   199.0             ultra    325.0  \n",
       "4     7                   199.0             ultra    427.0  \n",
       "5     7                   199.0             ultra    289.0  \n",
       "6     7                   199.0             ultra    313.0  \n",
       "7     7                   199.0             ultra    409.0  \n",
       "8     7                   199.0             ultra    289.0  \n",
       "11    7                   199.0             ultra    601.0  \n",
       "12    7                   199.0             ultra    379.0  "
      ]
     },
     "execution_count": 76,
     "metadata": {},
     "output_type": "execute_result"
    }
   ],
   "source": [
    "# проверим на случайном пользователе\n",
    "user_per_month.query('user_id == 7')"
   ]
  },
  {
   "cell_type": "markdown",
   "id": "49e92e14",
   "metadata": {},
   "source": [
    "**Создан датафрейм с агрегированными данными о поездках на основе датафрейма с объединёнными данными из шага 4: нашли суммарное расстояние, количество поездок и суммарное время для каждого пользователя за каждый месяц.\n",
    "Добавлен столбец с помесячной выручкой, которую принёс каждый пользователь.** "
   ]
  },
  {
   "cell_type": "markdown",
   "id": "41545ac0",
   "metadata": {},
   "source": [
    "## Проверка гипотез\n",
    "### Пользователи с подпиской тратят больше времени на поездки"
   ]
  },
  {
   "cell_type": "markdown",
   "id": "5203f8b8",
   "metadata": {},
   "source": [
    "Проверим гипотезу: пользователи с подпиской тратят больше времени на поездки, чем пользователи на бесплатном тарифе.\n",
    "\n",
    "**Гипотеза Н0:** Средняя продолжительность поездок с подпиской 'ultra' и 'free' равна.\n",
    "\n",
    "**Гипотеза Н1:** Средняя продолжительность поездок с подпиской 'ultra' больше, чем с подпиской 'free'."
   ]
  },
  {
   "cell_type": "code",
   "execution_count": 82,
   "id": "db638916",
   "metadata": {},
   "outputs": [
    {
     "name": "stdout",
     "output_type": "stream",
     "text": [
      "p-значение: 2.4959453720736625e-34\n",
      "Отвергаем нулевую гипотезу\n"
     ]
    }
   ],
   "source": [
    "a = free_users['duration']\n",
    "b = ultra_users['duration']\n",
    "\n",
    "results = st.ttest_ind(b, a, alternative = 'greater')\n",
    "alpha = .05\n",
    "print('p-значение:', results.pvalue)\n",
    "\n",
    "if results.pvalue < alpha:\n",
    "    print('Отвергаем нулевую гипотезу')\n",
    "else:\n",
    "    print('Не получилось отвергнуть нулевую гипотезу')  "
   ]
  },
  {
   "cell_type": "markdown",
   "id": "c0e96416",
   "metadata": {},
   "source": [
    "**Вывод.**\n",
    "\n",
    "Нулевая гипотеза отвергнута, средняя продолжительность поездок с подпиской 'ultra' больше, чем с подпиской 'free'."
   ]
  },
  {
   "cell_type": "markdown",
   "id": "d88e3b01",
   "metadata": {},
   "source": [
    "### Среднее расстояние, которое проезжают пользователи с подпиской за одну поездку, не превышает 3130 метров\n",
    "\n",
    "3130 метров — оптимальное расстояние с точки зрения износа самоката.\n",
    "\n",
    "**Гипотеза Н0:** Среднее расстояние поездок с использованием подписки 'ultra' равно оптимальному расстоянию в 3130 метров.\n",
    "\n",
    "**Гипотеза Н1:** Среднее расстояние поездок с использованием подписки 'ultra' больше 3130 метров."
   ]
  },
  {
   "cell_type": "code",
   "execution_count": 88,
   "id": "3198c305",
   "metadata": {},
   "outputs": [
    {
     "name": "stdout",
     "output_type": "stream",
     "text": [
      "p-значение: 0.9195362605842414\n",
      "Не получилось отвергнуть нулевую гипотезу\n"
     ]
    }
   ],
   "source": [
    "b = ultra_users['distance']\n",
    "interested_value = 3130\n",
    "\n",
    "results = st.ttest_1samp(b, interested_value, alternative = 'greater')\n",
    "alpha = .05\n",
    "print('p-значение:', results.pvalue)\n",
    "\n",
    "if results.pvalue < alpha:\n",
    "    print('Отвергаем нулевую гипотезу')\n",
    "else:\n",
    "    print('Не получилось отвергнуть нулевую гипотезу')"
   ]
  },
  {
   "cell_type": "markdown",
   "id": "0f90d0a0",
   "metadata": {},
   "source": [
    "**Вывод.**\n",
    "\n",
    "Не получилось отвергнуть нулевую гипотезу, а значит, нельзя утверждать, что среднее расстояние поездок с использованием подписки 'ultra' не превышает оптимальное расстоянием в 3130 метров с точки зрения износа самоката.\n"
   ]
  },
  {
   "cell_type": "markdown",
   "id": "2488943a",
   "metadata": {},
   "source": [
    "### Ежемесячная выручка от пользователей с подпиской по месяцам выше, чем выручка от пользователей без подписки\n",
    "\n",
    "**Гипотеза Н0:** Средняя выручка от поездок с разной подпиской равна.\n",
    "\n",
    "**Гипотеза Н1:** Средняя выручка от поездок с использованием подписки 'ultra' больше, чем выручка с ипользованием подписки 'free'."
   ]
  },
  {
   "cell_type": "code",
   "execution_count": 95,
   "id": "4e5ac4e8",
   "metadata": {},
   "outputs": [
    {
     "name": "stdout",
     "output_type": "stream",
     "text": [
      "p-значение: 1.8850394384715216e-31\n",
      "Отвергаем нулевую гипотезу\n"
     ]
    }
   ],
   "source": [
    "c = user_per_month.loc[user_per_month['subscription_fee'] > 0, 'revenue']\n",
    "d = user_per_month.loc[user_per_month['subscription_fee'] == 0, 'revenue']\n",
    "\n",
    "results = st.ttest_ind(c, d, alternative = 'greater')\n",
    "alpha = .05\n",
    "print('p-значение:', results.pvalue)\n",
    "\n",
    "if results.pvalue < alpha:\n",
    "    print('Отвергаем нулевую гипотезу')\n",
    "else:\n",
    "    print('Не получилось отвергнуть нулевую гипотезу')    "
   ]
  },
  {
   "cell_type": "markdown",
   "id": "090c4419",
   "metadata": {},
   "source": [
    "**Вывод**\n",
    "\n",
    "Нулевая гипотеза отвергнута, а значит выручка от пользователей с подпиской 'ultra' выше, чем от пользователей с бесплатным тарифом."
   ]
  },
  {
   "cell_type": "markdown",
   "id": "177ae347",
   "metadata": {},
   "source": [
    "### После обновления сервера количество обращений в техподдержку снизилось."
   ]
  },
  {
   "cell_type": "markdown",
   "id": "0a71003b",
   "metadata": {},
   "source": [
    "Техническая команда сервиса обновила сервера, с которыми взаимодействует мобильное приложение. Она надеется, что из-за этого количество обращений в техподдержку значимо снизилось. Некоторый файл содержит для каждого пользователя данные о количестве обращений до обновления и после него. \n",
    "\n",
    "Необходимо проверить одну генеральную совокупность, с которой произошли изменения. \n",
    "Будем проверять, равны ли средние совокупности до и после этого изменения. В нашем примере это пара измерений для каждого пользователя — до и после обновления серверов.\n",
    "\n",
    "Если в данных некоторая переменная измеряется дважды для одних и тех же объектов и имеют одинаковые размеры, тогда можно применить метод `scipy.stats.ttest_rel()`.\n",
    "Если указать `alternative='less'`, проверится левосторонняя альтернативная гипотеза о том, что истинное среднее генеральной совокупности до изменения меньше, чем истинное среднее генеральной совокупности после изменения."
   ]
  },
  {
   "cell_type": "markdown",
   "id": "b1aed1f7",
   "metadata": {},
   "source": [
    "**Вывод по разделу**\n",
    "\n",
    "1. Нулевая гипотеза отвергнута, средняя продолжительность поездок с подпиской 'ultra' больше, чем с подпиской 'free'.\n",
    "2. Не получилось отвергнуть нулевую гипотезу, а значит, нельзя утверждать, что среднее расстояние поездок с использованием подписки 'ultra' не превышает оптимальное расстоянием в 3130 метров с точки зрения износа самоката.\n",
    "3. Нулевая гипотеза отвергнута, а значит выручка от пользователей с подпиской 'ultra' выше, чем от пользователей с бесплатным тарифом.\n",
    "4. Для сравнения зависимых выборок необходимо применить метод `scipy.stats.ttest_rel()`."
   ]
  },
  {
   "cell_type": "markdown",
   "id": "61213c5e",
   "metadata": {},
   "source": [
    "## Общий вывод"
   ]
  },
  {
   "cell_type": "markdown",
   "id": "c4b961e0",
   "metadata": {},
   "source": [
    "В данном исследовании были проанализированы данные пользователей сервиса аренды самокатов GoFast.\n",
    "\n",
    "1. Изучены 3 датафрейма с данными: \n",
    "- о пользователях,\n",
    "- об их поездках,\n",
    "- о подписках на сервис.\n",
    "\n",
    "В процессе изучения общей информации не было обнаружено пропусков в данных и неявных дубликатов.\n",
    "\n",
    "2. Проведена предобработка данных: \n",
    "\n",
    " * удалены дубликаты в `users_go`;\n",
    " * добавлен столбец с номером месяца в `rides_go`;\n",
    " * столбец `date` приведен к типу даты datetime64 в `rides_go`;\n",
    " * округлили продолжительность поездки в столбце `duration` в `rides_go` и привели к типу int;\n",
    " * округлили `distance` в метрах до 2 знаков после запятой.\n",
    " \n",
    "3. Проведен исследовательский анализ данных:\n",
    "\n",
    " * выявлено, что количество пользователей по городам распределено относительно равномерно, нет выдающихся значений;\n",
    " * наибольшее количество пользователей сервиса находится в г. Пятигорск, наименьшее - в г. Москва;\n",
    " * количество пользователей без подписки (835 человек ~ 54%) превышает количество пользователей с подпиской (699 человек ~ 46%);\n",
    " * средний возраст пользователей сервиса от 22 до 30 лет;\n",
    " * в среднем, пользователи сервиса проезжают расстояние от 2,5 до 3,7 км;\n",
    " * в основном продолжительность поездки составляет от 14 до 22 минут.\n",
    "\n",
    "4. Объединили данные о пользователях, поездках и тарифах в один датафрейм `data`.\n",
    "\n",
    "На основании полученных данных сформировали еще два датафрейма:\n",
    "\n",
    "- `free_users` - данные о пользователях с бесплатным тарифом\n",
    "- `ultra_users` - данные о пользователях с платным тарифом\n",
    "\n",
    "Визуализировали информацию о расстоянии и времени для каждого из тарифов:\n",
    "\n",
    "- для бесплатного тарифа время поездки составляет от 13 до 22 минут, пользователи проезжают от 2 до 4 км. \n",
    "- пользователи с подпиской, в основном, укладываются в промежуток от 15 до 22 минут. Большинство преодолевают расстояние около 3 км.\n",
    "\n",
    "Сделан вывод, что пользователи с бесплатным тарифом в целом совершают больше поездок и их дистанция более разнообразна.\n",
    "\n",
    "5. Создан датафрейм с агрегированными данными о поездках на основе датафрейма с объединёнными данными `data`: \n",
    "- нашли суммарное расстояние, количество поездок и суммарное время для каждого пользователя за каждый месяц. \n",
    "- обавлен столбец с помесячной выручкой, которую принёс каждый пользователь.\n",
    "\n",
    "6. Проверены гипотезы:\n",
    "\n",
    "- пользователи с подпиской тратят больше времени на поездки, чем пользователи на бесплатном тарифе:\n",
    "    - нулевая гипотеза отвергнута;\n",
    "- среднее расстояние, которое проезжают пользователи с подпиской за одну поездку, не превышает 3130 метров:\n",
    "    - не получилось отвергнуть нулевую гипотезу;\n",
    "- ежемесячная выручка от пользователей с подпиской по месяцам выше, чем выручка от пользователей без подписки:\n",
    "    - нулевая гипотеза отвергнута."
   ]
  }
 ],
 "metadata": {
  "ExecuteTimeLog": [
   {
    "duration": 1328,
    "start_time": "2024-03-19T15:06:08.606Z"
   },
   {
    "duration": 86,
    "start_time": "2024-03-19T15:06:09.936Z"
   },
   {
    "duration": 71,
    "start_time": "2024-03-19T15:06:10.024Z"
   },
   {
    "duration": 58,
    "start_time": "2024-03-19T15:06:10.097Z"
   },
   {
    "duration": 22,
    "start_time": "2024-03-19T15:06:10.156Z"
   },
   {
    "duration": 8,
    "start_time": "2024-03-19T15:06:10.180Z"
   },
   {
    "duration": 8,
    "start_time": "2024-03-19T15:06:10.190Z"
   },
   {
    "duration": 4,
    "start_time": "2024-03-19T15:06:10.200Z"
   },
   {
    "duration": 8,
    "start_time": "2024-03-19T15:06:10.205Z"
   },
   {
    "duration": 31,
    "start_time": "2024-03-19T15:06:10.215Z"
   },
   {
    "duration": 18,
    "start_time": "2024-03-19T15:06:10.247Z"
   },
   {
    "duration": 18,
    "start_time": "2024-03-19T15:06:10.266Z"
   },
   {
    "duration": 4,
    "start_time": "2024-03-19T15:06:10.285Z"
   },
   {
    "duration": 151,
    "start_time": "2024-03-19T15:06:10.290Z"
   },
   {
    "duration": 5,
    "start_time": "2024-03-19T15:06:10.444Z"
   },
   {
    "duration": 77,
    "start_time": "2024-03-19T15:06:10.450Z"
   },
   {
    "duration": 4,
    "start_time": "2024-03-19T15:06:10.528Z"
   },
   {
    "duration": 147,
    "start_time": "2024-03-19T15:06:10.545Z"
   },
   {
    "duration": 8,
    "start_time": "2024-03-19T15:06:10.693Z"
   },
   {
    "duration": 14,
    "start_time": "2024-03-19T15:06:10.702Z"
   },
   {
    "duration": 780,
    "start_time": "2024-03-19T15:06:10.717Z"
   },
   {
    "duration": 101,
    "start_time": "2024-03-19T15:06:11.499Z"
   },
   {
    "duration": 7,
    "start_time": "2024-03-19T15:06:11.602Z"
   },
   {
    "duration": 11,
    "start_time": "2024-03-19T15:06:11.610Z"
   },
   {
    "duration": 105,
    "start_time": "2024-03-19T15:06:11.622Z"
   },
   {
    "duration": 30,
    "start_time": "2024-03-19T15:06:11.728Z"
   },
   {
    "duration": 13,
    "start_time": "2024-03-19T15:06:11.759Z"
   },
   {
    "duration": 21,
    "start_time": "2024-03-19T15:06:11.775Z"
   },
   {
    "duration": 160,
    "start_time": "2024-03-19T15:06:11.798Z"
   },
   {
    "duration": 195,
    "start_time": "2024-03-19T15:06:11.959Z"
   },
   {
    "duration": 8,
    "start_time": "2024-03-19T15:06:12.155Z"
   },
   {
    "duration": 8,
    "start_time": "2024-03-19T15:06:12.164Z"
   },
   {
    "duration": 12,
    "start_time": "2024-03-19T15:06:12.174Z"
   },
   {
    "duration": 218,
    "start_time": "2024-03-19T15:06:12.188Z"
   },
   {
    "duration": 173,
    "start_time": "2024-03-19T15:06:12.407Z"
   },
   {
    "duration": 7,
    "start_time": "2024-03-19T15:06:12.581Z"
   },
   {
    "duration": 7,
    "start_time": "2024-03-19T15:06:12.590Z"
   },
   {
    "duration": 277,
    "start_time": "2024-03-19T15:06:12.598Z"
   },
   {
    "duration": 227,
    "start_time": "2024-03-19T15:06:12.876Z"
   },
   {
    "duration": 898,
    "start_time": "2024-03-19T15:06:13.105Z"
   },
   {
    "duration": 12,
    "start_time": "2024-03-19T15:06:14.004Z"
   },
   {
    "duration": 28,
    "start_time": "2024-03-19T15:06:14.018Z"
   },
   {
    "duration": 6,
    "start_time": "2024-03-19T15:06:14.047Z"
   },
   {
    "duration": 7,
    "start_time": "2024-03-19T15:06:14.054Z"
   },
   {
    "duration": 6,
    "start_time": "2024-03-19T15:06:14.063Z"
   },
   {
    "duration": 1289,
    "start_time": "2024-03-19T18:41:27.926Z"
   },
   {
    "duration": 98,
    "start_time": "2024-03-19T18:41:29.218Z"
   },
   {
    "duration": 169,
    "start_time": "2024-03-19T18:41:29.318Z"
   },
   {
    "duration": 61,
    "start_time": "2024-03-19T18:41:29.489Z"
   },
   {
    "duration": 25,
    "start_time": "2024-03-19T18:41:29.553Z"
   },
   {
    "duration": 10,
    "start_time": "2024-03-19T18:41:29.579Z"
   },
   {
    "duration": 34,
    "start_time": "2024-03-19T18:41:29.590Z"
   },
   {
    "duration": 5,
    "start_time": "2024-03-19T18:41:29.626Z"
   },
   {
    "duration": 12,
    "start_time": "2024-03-19T18:41:29.632Z"
   },
   {
    "duration": 13,
    "start_time": "2024-03-19T18:41:29.645Z"
   },
   {
    "duration": 9,
    "start_time": "2024-03-19T18:41:29.659Z"
   },
   {
    "duration": 22,
    "start_time": "2024-03-19T18:41:29.669Z"
   },
   {
    "duration": 6,
    "start_time": "2024-03-19T18:41:29.692Z"
   },
   {
    "duration": 145,
    "start_time": "2024-03-19T18:41:29.700Z"
   },
   {
    "duration": 5,
    "start_time": "2024-03-19T18:41:29.846Z"
   },
   {
    "duration": 87,
    "start_time": "2024-03-19T18:41:29.853Z"
   },
   {
    "duration": 4,
    "start_time": "2024-03-19T18:41:29.942Z"
   },
   {
    "duration": 155,
    "start_time": "2024-03-19T18:41:29.947Z"
   },
   {
    "duration": 9,
    "start_time": "2024-03-19T18:41:30.103Z"
   },
   {
    "duration": 43,
    "start_time": "2024-03-19T18:41:30.113Z"
   },
   {
    "duration": 847,
    "start_time": "2024-03-19T18:41:30.157Z"
   },
   {
    "duration": 103,
    "start_time": "2024-03-19T18:41:31.005Z"
   },
   {
    "duration": 8,
    "start_time": "2024-03-19T18:41:31.109Z"
   },
   {
    "duration": 68,
    "start_time": "2024-03-19T18:41:31.118Z"
   },
   {
    "duration": 165,
    "start_time": "2024-03-19T18:41:31.188Z"
   },
   {
    "duration": 25,
    "start_time": "2024-03-19T18:41:31.355Z"
   },
   {
    "duration": 68,
    "start_time": "2024-03-19T18:41:31.382Z"
   },
   {
    "duration": 50,
    "start_time": "2024-03-19T18:41:31.451Z"
   },
   {
    "duration": 183,
    "start_time": "2024-03-19T18:41:31.502Z"
   },
   {
    "duration": 182,
    "start_time": "2024-03-19T18:41:31.686Z"
   },
   {
    "duration": 8,
    "start_time": "2024-03-19T18:41:31.870Z"
   },
   {
    "duration": 86,
    "start_time": "2024-03-19T18:41:31.893Z"
   },
   {
    "duration": 118,
    "start_time": "2024-03-19T18:41:31.981Z"
   },
   {
    "duration": 377,
    "start_time": "2024-03-19T18:41:32.101Z"
   },
   {
    "duration": 176,
    "start_time": "2024-03-19T18:41:32.480Z"
   },
   {
    "duration": 9,
    "start_time": "2024-03-19T18:41:32.658Z"
   },
   {
    "duration": 34,
    "start_time": "2024-03-19T18:41:32.668Z"
   },
   {
    "duration": 381,
    "start_time": "2024-03-19T18:41:32.704Z"
   },
   {
    "duration": 347,
    "start_time": "2024-03-19T18:41:33.086Z"
   },
   {
    "duration": 847,
    "start_time": "2024-03-19T18:41:33.435Z"
   },
   {
    "duration": 19,
    "start_time": "2024-03-19T18:41:34.286Z"
   },
   {
    "duration": 120,
    "start_time": "2024-03-19T18:41:34.306Z"
   },
   {
    "duration": 88,
    "start_time": "2024-03-19T18:41:34.428Z"
   },
   {
    "duration": 121,
    "start_time": "2024-03-19T18:41:34.518Z"
   },
   {
    "duration": 38,
    "start_time": "2024-03-19T18:41:34.641Z"
   },
   {
    "duration": 6,
    "start_time": "2024-03-19T18:44:52.376Z"
   },
   {
    "duration": 6,
    "start_time": "2024-03-19T18:45:17.060Z"
   },
   {
    "duration": 1297,
    "start_time": "2024-03-20T06:22:34.843Z"
   },
   {
    "duration": 96,
    "start_time": "2024-03-20T06:22:36.142Z"
   },
   {
    "duration": 172,
    "start_time": "2024-03-20T06:22:36.240Z"
   },
   {
    "duration": 61,
    "start_time": "2024-03-20T06:22:36.415Z"
   },
   {
    "duration": 23,
    "start_time": "2024-03-20T06:22:36.477Z"
   },
   {
    "duration": 13,
    "start_time": "2024-03-20T06:22:36.501Z"
   },
   {
    "duration": 9,
    "start_time": "2024-03-20T06:22:36.516Z"
   },
   {
    "duration": 5,
    "start_time": "2024-03-20T06:22:36.526Z"
   },
   {
    "duration": 12,
    "start_time": "2024-03-20T06:22:36.533Z"
   },
   {
    "duration": 8,
    "start_time": "2024-03-20T06:22:36.548Z"
   },
   {
    "duration": 12,
    "start_time": "2024-03-20T06:22:36.557Z"
   },
   {
    "duration": 29,
    "start_time": "2024-03-20T06:22:36.570Z"
   },
   {
    "duration": 5,
    "start_time": "2024-03-20T06:22:36.600Z"
   },
   {
    "duration": 156,
    "start_time": "2024-03-20T06:22:36.606Z"
   },
   {
    "duration": 5,
    "start_time": "2024-03-20T06:22:36.763Z"
   },
   {
    "duration": 92,
    "start_time": "2024-03-20T06:22:36.770Z"
   },
   {
    "duration": 5,
    "start_time": "2024-03-20T06:22:36.864Z"
   },
   {
    "duration": 154,
    "start_time": "2024-03-20T06:22:36.871Z"
   },
   {
    "duration": 9,
    "start_time": "2024-03-20T06:22:37.027Z"
   },
   {
    "duration": 13,
    "start_time": "2024-03-20T06:22:37.037Z"
   },
   {
    "duration": 806,
    "start_time": "2024-03-20T06:22:37.052Z"
   },
   {
    "duration": 113,
    "start_time": "2024-03-20T06:22:37.859Z"
   },
   {
    "duration": 8,
    "start_time": "2024-03-20T06:22:37.973Z"
   },
   {
    "duration": 8,
    "start_time": "2024-03-20T06:22:37.982Z"
   },
   {
    "duration": 116,
    "start_time": "2024-03-20T06:22:37.991Z"
   },
   {
    "duration": 28,
    "start_time": "2024-03-20T06:22:38.109Z"
   },
   {
    "duration": 13,
    "start_time": "2024-03-20T06:22:38.139Z"
   },
   {
    "duration": 15,
    "start_time": "2024-03-20T06:22:38.155Z"
   },
   {
    "duration": 192,
    "start_time": "2024-03-20T06:22:38.171Z"
   },
   {
    "duration": 193,
    "start_time": "2024-03-20T06:22:38.365Z"
   },
   {
    "duration": 7,
    "start_time": "2024-03-20T06:22:38.560Z"
   },
   {
    "duration": 15,
    "start_time": "2024-03-20T06:22:38.569Z"
   },
   {
    "duration": 13,
    "start_time": "2024-03-20T06:22:38.586Z"
   },
   {
    "duration": 211,
    "start_time": "2024-03-20T06:22:38.615Z"
   },
   {
    "duration": 188,
    "start_time": "2024-03-20T06:22:38.829Z"
   },
   {
    "duration": 10,
    "start_time": "2024-03-20T06:22:39.019Z"
   },
   {
    "duration": 8,
    "start_time": "2024-03-20T06:22:39.031Z"
   },
   {
    "duration": 289,
    "start_time": "2024-03-20T06:22:39.041Z"
   },
   {
    "duration": 325,
    "start_time": "2024-03-20T06:22:39.331Z"
   },
   {
    "duration": 845,
    "start_time": "2024-03-20T06:22:39.657Z"
   },
   {
    "duration": 21,
    "start_time": "2024-03-20T06:22:40.503Z"
   },
   {
    "duration": 11,
    "start_time": "2024-03-20T06:22:40.526Z"
   },
   {
    "duration": 5,
    "start_time": "2024-03-20T06:22:40.539Z"
   },
   {
    "duration": 14,
    "start_time": "2024-03-20T06:22:40.545Z"
   },
   {
    "duration": 8,
    "start_time": "2024-03-20T06:22:40.560Z"
   },
   {
    "duration": 1142,
    "start_time": "2024-03-20T16:51:35.128Z"
   },
   {
    "duration": 38,
    "start_time": "2024-03-20T16:51:36.272Z"
   },
   {
    "duration": 35,
    "start_time": "2024-03-20T16:51:36.311Z"
   },
   {
    "duration": 19,
    "start_time": "2024-03-20T16:51:36.348Z"
   },
   {
    "duration": 23,
    "start_time": "2024-03-20T16:51:36.368Z"
   },
   {
    "duration": 10,
    "start_time": "2024-03-20T16:51:36.392Z"
   },
   {
    "duration": 9,
    "start_time": "2024-03-20T16:51:36.403Z"
   },
   {
    "duration": 8,
    "start_time": "2024-03-20T16:51:36.413Z"
   },
   {
    "duration": 7,
    "start_time": "2024-03-20T16:51:36.423Z"
   },
   {
    "duration": 37,
    "start_time": "2024-03-20T16:51:36.432Z"
   },
   {
    "duration": 18,
    "start_time": "2024-03-20T16:51:36.470Z"
   },
   {
    "duration": 10,
    "start_time": "2024-03-20T16:51:36.490Z"
   },
   {
    "duration": 4,
    "start_time": "2024-03-20T16:51:36.502Z"
   },
   {
    "duration": 173,
    "start_time": "2024-03-20T16:51:36.508Z"
   },
   {
    "duration": 5,
    "start_time": "2024-03-20T16:51:36.683Z"
   },
   {
    "duration": 110,
    "start_time": "2024-03-20T16:51:36.690Z"
   },
   {
    "duration": 5,
    "start_time": "2024-03-20T16:51:36.802Z"
   },
   {
    "duration": 167,
    "start_time": "2024-03-20T16:51:36.809Z"
   },
   {
    "duration": 10,
    "start_time": "2024-03-20T16:51:36.977Z"
   },
   {
    "duration": 8,
    "start_time": "2024-03-20T16:51:36.989Z"
   },
   {
    "duration": 832,
    "start_time": "2024-03-20T16:51:36.999Z"
   },
   {
    "duration": 109,
    "start_time": "2024-03-20T16:51:37.833Z"
   },
   {
    "duration": 9,
    "start_time": "2024-03-20T16:51:37.944Z"
   },
   {
    "duration": 5,
    "start_time": "2024-03-20T16:51:37.965Z"
   },
   {
    "duration": 118,
    "start_time": "2024-03-20T16:51:37.971Z"
   },
   {
    "duration": 25,
    "start_time": "2024-03-20T16:51:38.091Z"
   },
   {
    "duration": 14,
    "start_time": "2024-03-20T16:51:38.118Z"
   },
   {
    "duration": 38,
    "start_time": "2024-03-20T16:51:38.136Z"
   },
   {
    "duration": 172,
    "start_time": "2024-03-20T16:51:38.175Z"
   },
   {
    "duration": 193,
    "start_time": "2024-03-20T16:51:38.348Z"
   },
   {
    "duration": 8,
    "start_time": "2024-03-20T16:51:38.543Z"
   },
   {
    "duration": 19,
    "start_time": "2024-03-20T16:51:38.552Z"
   },
   {
    "duration": 13,
    "start_time": "2024-03-20T16:51:38.573Z"
   },
   {
    "duration": 203,
    "start_time": "2024-03-20T16:51:38.587Z"
   },
   {
    "duration": 194,
    "start_time": "2024-03-20T16:51:38.792Z"
   },
   {
    "duration": 8,
    "start_time": "2024-03-20T16:51:38.987Z"
   },
   {
    "duration": 8,
    "start_time": "2024-03-20T16:51:38.996Z"
   },
   {
    "duration": 277,
    "start_time": "2024-03-20T16:51:39.005Z"
   },
   {
    "duration": 346,
    "start_time": "2024-03-20T16:51:39.284Z"
   },
   {
    "duration": 852,
    "start_time": "2024-03-20T16:51:39.631Z"
   },
   {
    "duration": 13,
    "start_time": "2024-03-20T16:51:40.484Z"
   },
   {
    "duration": 12,
    "start_time": "2024-03-20T16:51:40.499Z"
   },
   {
    "duration": 5,
    "start_time": "2024-03-20T16:51:40.513Z"
   },
   {
    "duration": 6,
    "start_time": "2024-03-20T16:51:40.520Z"
   },
   {
    "duration": 38,
    "start_time": "2024-03-20T16:51:40.527Z"
   }
  ],
  "kernelspec": {
   "display_name": "Python 3 (ipykernel)",
   "language": "python",
   "name": "python3"
  },
  "language_info": {
   "codemirror_mode": {
    "name": "ipython",
    "version": 3
   },
   "file_extension": ".py",
   "mimetype": "text/x-python",
   "name": "python",
   "nbconvert_exporter": "python",
   "pygments_lexer": "ipython3",
   "version": "3.11.5"
  },
  "toc": {
   "base_numbering": 1,
   "nav_menu": {},
   "number_sections": true,
   "sideBar": true,
   "skip_h1_title": true,
   "title_cell": "Содержание",
   "title_sidebar": "Contents",
   "toc_cell": true,
   "toc_position": {},
   "toc_section_display": true,
   "toc_window_display": false
  }
 },
 "nbformat": 4,
 "nbformat_minor": 5
}
